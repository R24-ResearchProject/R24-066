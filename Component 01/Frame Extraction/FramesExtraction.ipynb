{
 "cells": [
  {
   "cell_type": "code",
   "execution_count": 6,
   "metadata": {},
   "outputs": [],
   "source": [
    "import cv2\n",
    "import os\n",
    "\n",
    "def extract_frames(video_path, output_folder, frame_interval=1):\n",
    "    # Open the video file\n",
    "    cap = cv2.VideoCapture(video_path)\n",
    "    \n",
    "    # Check if the video file is opened successfully\n",
    "    if not cap.isOpened():\n",
    "        print(\"Error: Unable to open video file.\")\n",
    "        return\n",
    "    \n",
    "    # Create the output folder if it doesn't exist\n",
    "    if not os.path.exists(output_folder):\n",
    "        os.makedirs(output_folder)\n",
    "    \n",
    "    # Frame index\n",
    "    frame_index = 1\n",
    "    \n",
    "    # Loop through the video frames\n",
    "    while True:\n",
    "        # Read a frame from the video\n",
    "        ret, frame = cap.read()\n",
    "        \n",
    "        # Check if frame is retrieved successfully\n",
    "        if not ret:\n",
    "            break\n",
    "        \n",
    "        # Save frame to output folder\n",
    "        if frame_index % frame_interval == 0:\n",
    "            frame_path = os.path.join(output_folder, f\"frame_{frame_index}.jpg\")\n",
    "            cv2.imwrite(frame_path, frame)\n",
    "        \n",
    "        # Increment frame index\n",
    "        frame_index += 1\n",
    "     \n",
    "    # Release the video capture object\n",
    "    cap.release()\n",
    "\n",
    "# Example usage\n",
    "video_path = \"../../Component 01/Dataset/Videos/1.MOV\"\n",
    "output_folder = \"../../Component 01/Frame Extraction/Extracted_Frames\"\n",
    "frame_interval = 5\n",
    "\n",
    "extract_frames(video_path, output_folder, frame_interval)\n"
   ]
  }
 ],
 "metadata": {
  "kernelspec": {
   "display_name": "Python 3",
   "language": "python",
   "name": "python3"
  },
  "language_info": {
   "codemirror_mode": {
    "name": "ipython",
    "version": 3
   },
   "file_extension": ".py",
   "mimetype": "text/x-python",
   "name": "python",
   "nbconvert_exporter": "python",
   "pygments_lexer": "ipython3",
   "version": "3.11.2"
  }
 },
 "nbformat": 4,
 "nbformat_minor": 2
}
