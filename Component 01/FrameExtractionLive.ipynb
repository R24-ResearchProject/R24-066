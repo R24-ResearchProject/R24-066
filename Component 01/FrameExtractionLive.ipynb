{
 "cells": [
  {
   "cell_type": "code",
   "execution_count": 2,
   "metadata": {},
   "outputs": [],
   "source": [
    "import cv2\n",
    "import os\n",
    "\n",
    "def extract_frames_live(output_folder, frame_interval=1):\n",
    "    # Open the camera\n",
    "    cap = cv2.VideoCapture(1)\n",
    "    \n",
    "    if not cap.isOpened():\n",
    "        print(\"Error: Unable to open camera.\")\n",
    "        return\n",
    "    \n",
    "    # Create the output folder\n",
    "    if not os.path.exists(output_folder):\n",
    "        os.makedirs(output_folder)\n",
    "    \n",
    "    frame_index = 1\n",
    "    \n",
    "    # Loop for live video capturing and frame extraction\n",
    "    while True:\n",
    "        # Read a frame from the camera\n",
    "        ret, frame = cap.read()\n",
    "        \n",
    "        # Check if frame is retrieved successfully\n",
    "        if not ret:\n",
    "            print(\"Error: Unable to capture frame.\")\n",
    "            break\n",
    "        \n",
    "        # Save frames to output folder\n",
    "        if frame_index % frame_interval == 0:\n",
    "            frame_path = os.path.join(output_folder, f\"frame_{frame_index}.jpg\")\n",
    "            cv2.imwrite(frame_path, frame)\n",
    "        \n",
    "        # Display the captured frame\n",
    "        cv2.imshow('Live Frame', frame)\n",
    "        \n",
    "        # Press 'q' to quit\n",
    "        if cv2.waitKey(1) & 0xFF == ord('q'):\n",
    "            break\n",
    "        \n",
    "        # Increment frame index\n",
    "        frame_index += 1\n",
    "    \n",
    "    # Release the camera capture object\n",
    "    cap.release()\n",
    "    cv2.destroyAllWindows()\n",
    "\n",
    "# Example usage\n",
    "output_folder = \"../Component 01/Dataset/Frames_Live\"\n",
    "frame_interval = 5\n",
    "\n",
    "extract_frames_live(output_folder, frame_interval)"
   ]
  }
 ],
 "metadata": {
  "kernelspec": {
   "display_name": "Python 3",
   "language": "python",
   "name": "python3"
  },
  "language_info": {
   "codemirror_mode": {
    "name": "ipython",
    "version": 3
   },
   "file_extension": ".py",
   "mimetype": "text/x-python",
   "name": "python",
   "nbconvert_exporter": "python",
   "pygments_lexer": "ipython3",
   "version": "3.11.2"
  }
 },
 "nbformat": 4,
 "nbformat_minor": 2
}
