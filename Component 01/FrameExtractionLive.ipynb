{
 "cells": [
  {
   "cell_type": "code",
   "execution_count": 1,
   "metadata": {},
   "outputs": [
    {
     "ename": "KeyboardInterrupt",
     "evalue": "",
     "output_type": "error",
     "traceback": [
      "\u001b[1;31m---------------------------------------------------------------------------\u001b[0m",
      "\u001b[1;31mKeyboardInterrupt\u001b[0m                         Traceback (most recent call last)",
      "Cell \u001b[1;32mIn[1], line 53\u001b[0m\n\u001b[0;32m     50\u001b[0m output_folder \u001b[38;5;241m=\u001b[39m \u001b[38;5;124m\"\u001b[39m\u001b[38;5;124m../Component 01/Dataset/Frames_Live\u001b[39m\u001b[38;5;124m\"\u001b[39m\n\u001b[0;32m     51\u001b[0m frame_interval \u001b[38;5;241m=\u001b[39m \u001b[38;5;241m5\u001b[39m\n\u001b[1;32m---> 53\u001b[0m \u001b[43mextract_frames_live\u001b[49m\u001b[43m(\u001b[49m\u001b[43moutput_folder\u001b[49m\u001b[43m,\u001b[49m\u001b[43m \u001b[49m\u001b[43mframe_interval\u001b[49m\u001b[43m)\u001b[49m\n",
      "Cell \u001b[1;32mIn[1], line 23\u001b[0m, in \u001b[0;36mextract_frames_live\u001b[1;34m(output_folder, frame_interval)\u001b[0m\n\u001b[0;32m     20\u001b[0m \u001b[38;5;66;03m# Loop for live video capturing and frame extraction\u001b[39;00m\n\u001b[0;32m     21\u001b[0m \u001b[38;5;28;01mwhile\u001b[39;00m \u001b[38;5;28;01mTrue\u001b[39;00m:\n\u001b[0;32m     22\u001b[0m     \u001b[38;5;66;03m# Read a frame from the camera\u001b[39;00m\n\u001b[1;32m---> 23\u001b[0m     ret, frame \u001b[38;5;241m=\u001b[39m \u001b[43mcap\u001b[49m\u001b[38;5;241;43m.\u001b[39;49m\u001b[43mread\u001b[49m\u001b[43m(\u001b[49m\u001b[43m)\u001b[49m\n\u001b[0;32m     25\u001b[0m     \u001b[38;5;66;03m# Check if frame is retrieved successfully\u001b[39;00m\n\u001b[0;32m     26\u001b[0m     \u001b[38;5;28;01mif\u001b[39;00m \u001b[38;5;129;01mnot\u001b[39;00m ret:\n",
      "\u001b[1;31mKeyboardInterrupt\u001b[0m: "
     ]
    }
   ],
   "source": [
    "import cv2\n",
    "import os\n",
    "\n",
    "def extract_frames_live(output_folder, frame_interval=1):\n",
    "    # Open the webcam or external camera\n",
    "    cap = cv2.VideoCapture(0)\n",
    "    \n",
    "    # Check if the camera is opened successfully\n",
    "    if not cap.isOpened():\n",
    "        print(\"Error: Unable to open camera.\")\n",
    "        return\n",
    "    \n",
    "    # Create the output folder if it doesn't exist\n",
    "    if not os.path.exists(output_folder):\n",
    "        os.makedirs(output_folder)\n",
    "    \n",
    "    # Frame index\n",
    "    frame_index = 0\n",
    "    \n",
    "    # Loop for live video capturing and frame extraction\n",
    "    while True:\n",
    "        # Read a frame from the camera\n",
    "        ret, frame = cap.read()\n",
    "        \n",
    "        # Check if frame is retrieved successfully\n",
    "        if not ret:\n",
    "            print(\"Error: Unable to capture frame.\")\n",
    "            break\n",
    "        \n",
    "        # Save frame to output folder\n",
    "        if frame_index % frame_interval == 0:\n",
    "            frame_path = os.path.join(output_folder, f\"frame_{frame_index}.jpg\")\n",
    "            cv2.imwrite(frame_path, frame)\n",
    "        \n",
    "        # Display the captured frame\n",
    "        cv2.imshow('Live Frame', frame)\n",
    "        \n",
    "        # Check for key press (press 'q' to quit)\n",
    "        if cv2.waitKey(1) & 0xFF == ord('q'):\n",
    "            break\n",
    "        \n",
    "        # Increment frame index\n",
    "        frame_index += 1\n",
    "    \n",
    "    # Release the camera capture object\n",
    "    cap.release()\n",
    "    cv2.destroyAllWindows()\n",
    "\n",
    "# Example usage\n",
    "output_folder = \"../Component 01/Dataset/Frames_Live\"\n",
    "frame_interval = 5\n",
    "\n",
    "extract_frames_live(output_folder, frame_interval)"
   ]
  }
 ],
 "metadata": {
  "kernelspec": {
   "display_name": "Python 3",
   "language": "python",
   "name": "python3"
  },
  "language_info": {
   "codemirror_mode": {
    "name": "ipython",
    "version": 3
   },
   "file_extension": ".py",
   "mimetype": "text/x-python",
   "name": "python",
   "nbconvert_exporter": "python",
   "pygments_lexer": "ipython3",
   "version": "3.11.2"
  }
 },
 "nbformat": 4,
 "nbformat_minor": 2
}
