{
 "cells": [
  {
   "cell_type": "code",
   "execution_count": 1,
   "metadata": {},
   "outputs": [
    {
     "name": "stdout",
     "output_type": "stream",
     "text": [
      "Train Images shape: (517, 224, 224, 3)\n",
      "Train Labels shape: (517,)\n",
      "Test Images shape: (74, 224, 224, 3)\n",
      "Test Labels shape: (74,)\n",
      "Validation Images shape: (147, 224, 224, 3)\n",
      "Validation Labels shape: (147,)\n"
     ]
    }
   ],
   "source": [
    "import os\n",
    "import cv2\n",
    "import numpy as np\n",
    "\n",
    "def load_data(data_dir):\n",
    "    images = []\n",
    "    labels = []\n",
    "    for folder_name in os.listdir(data_dir):\n",
    "        folder_path = os.path.join(data_dir, folder_name)\n",
    "        if os.path.isdir(folder_path):\n",
    "            for filename in os.listdir(folder_path):\n",
    "                if filename.endswith('.jpg') or filename.endswith('.png'):\n",
    "                    image_path = os.path.join(folder_path, filename)\n",
    "                    image = cv2.imread(image_path)\n",
    "                    image = cv2.cvtColor(image, cv2.COLOR_BGR2RGB)  # Convert to RGB\n",
    "                    image = cv2.resize(image, (224, 224))  # Resize to a common size (example: 224x224)\n",
    "                    images.append(image)\n",
    "                    labels.append(folder_name)\n",
    "    return np.array(images), np.array(labels)\n",
    "\n",
    "# Define the path to your dataset directory\n",
    "data_dir = '../Component 01/Dataset/labelled data'\n",
    "\n",
    "# Load the data using the provided directory path\n",
    "train_images, train_labels = load_data(os.path.join(data_dir, 'train'))\n",
    "test_images, test_labels = load_data(os.path.join(data_dir, 'test'))\n",
    "valid_images, valid_labels = load_data(os.path.join(data_dir, 'valid'))\n",
    "\n",
    "# Example usage\n",
    "print(\"Train Images shape:\", train_images.shape)\n",
    "print(\"Train Labels shape:\", train_labels.shape)\n",
    "print(\"Test Images shape:\", test_images.shape)\n",
    "print(\"Test Labels shape:\", test_labels.shape)\n",
    "print(\"Validation Images shape:\", valid_images.shape)\n",
    "print(\"Validation Labels shape:\", valid_labels.shape)"
   ]
  }
 ],
 "metadata": {
  "kernelspec": {
   "display_name": "Python 3",
   "language": "python",
   "name": "python3"
  },
  "language_info": {
   "codemirror_mode": {
    "name": "ipython",
    "version": 3
   },
   "file_extension": ".py",
   "mimetype": "text/x-python",
   "name": "python",
   "nbconvert_exporter": "python",
   "pygments_lexer": "ipython3",
   "version": "3.11.2"
  }
 },
 "nbformat": 4,
 "nbformat_minor": 2
}
