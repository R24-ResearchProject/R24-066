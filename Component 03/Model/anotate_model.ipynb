{
 "cells": [
  {
   "cell_type": "code",
   "execution_count": 1,
   "metadata": {},
   "outputs": [
    {
     "name": "stdout",
     "output_type": "stream",
     "text": [
      "Collecting roboflow\n",
      "  Downloading roboflow-1.1.27-py3-none-any.whl (74 kB)\n",
      "     -------------------------------------- 74.1/74.1 kB 204.7 kB/s eta 0:00:00\n",
      "Collecting certifi==2023.7.22\n",
      "  Using cached certifi-2023.7.22-py3-none-any.whl (158 kB)\n",
      "Collecting chardet==4.0.0\n",
      "  Downloading chardet-4.0.0-py2.py3-none-any.whl (178 kB)\n",
      "     ------------------------------------ 178.7/178.7 kB 308.0 kB/s eta 0:00:00\n",
      "Collecting cycler==0.10.0\n",
      "  Downloading cycler-0.10.0-py2.py3-none-any.whl (6.5 kB)\n",
      "Collecting idna==2.10\n",
      "  Downloading idna-2.10-py2.py3-none-any.whl (58 kB)\n",
      "     -------------------------------------- 58.8/58.8 kB 344.5 kB/s eta 0:00:00\n",
      "Requirement already satisfied: kiwisolver>=1.3.1 in c:\\users\\cheha\\appdata\\local\\programs\\python\\python311\\lib\\site-packages (from roboflow) (1.4.4)\n",
      "Requirement already satisfied: matplotlib in c:\\users\\cheha\\appdata\\local\\programs\\python\\python311\\lib\\site-packages (from roboflow) (3.7.1)\n",
      "Requirement already satisfied: numpy>=1.18.5 in c:\\users\\cheha\\appdata\\local\\programs\\python\\python311\\lib\\site-packages (from roboflow) (1.25.0)\n",
      "Collecting opencv-python-headless==4.8.0.74\n",
      "  Downloading opencv_python_headless-4.8.0.74-cp37-abi3-win_amd64.whl (38.0 MB)\n",
      "     -------------------------------------- 38.0/38.0 MB 261.2 kB/s eta 0:00:00\n",
      "Requirement already satisfied: Pillow>=7.1.2 in c:\\users\\cheha\\appdata\\local\\programs\\python\\python311\\lib\\site-packages (from roboflow) (9.5.0)\n",
      "Requirement already satisfied: python-dateutil in c:\\users\\cheha\\appdata\\local\\programs\\python\\python311\\lib\\site-packages (from roboflow) (2.8.2)\n",
      "Collecting python-dotenv\n",
      "  Downloading python_dotenv-1.0.1-py3-none-any.whl (19 kB)\n",
      "Requirement already satisfied: requests in c:\\users\\cheha\\appdata\\local\\programs\\python\\python311\\lib\\site-packages (from roboflow) (2.31.0)\n",
      "Requirement already satisfied: six in c:\\users\\cheha\\appdata\\local\\programs\\python\\python311\\lib\\site-packages (from roboflow) (1.16.0)\n",
      "Requirement already satisfied: urllib3>=1.26.6 in c:\\users\\cheha\\appdata\\local\\programs\\python\\python311\\lib\\site-packages (from roboflow) (2.0.3)\n",
      "Requirement already satisfied: tqdm>=4.41.0 in c:\\users\\cheha\\appdata\\local\\programs\\python\\python311\\lib\\site-packages (from roboflow) (4.65.0)\n",
      "Requirement already satisfied: PyYAML>=5.3.1 in c:\\users\\cheha\\appdata\\local\\programs\\python\\python311\\lib\\site-packages (from roboflow) (6.0)\n",
      "Collecting requests-toolbelt\n",
      "  Downloading requests_toolbelt-1.0.0-py2.py3-none-any.whl (54 kB)\n",
      "     -------------------------------------- 54.5/54.5 kB 283.6 kB/s eta 0:00:00\n",
      "Collecting python-magic\n",
      "  Downloading python_magic-0.4.27-py2.py3-none-any.whl (13 kB)\n",
      "Requirement already satisfied: colorama in c:\\users\\cheha\\appdata\\local\\programs\\python\\python311\\lib\\site-packages (from tqdm>=4.41.0->roboflow) (0.4.6)\n",
      "Requirement already satisfied: contourpy>=1.0.1 in c:\\users\\cheha\\appdata\\local\\programs\\python\\python311\\lib\\site-packages (from matplotlib->roboflow) (1.1.0)\n",
      "Requirement already satisfied: fonttools>=4.22.0 in c:\\users\\cheha\\appdata\\local\\programs\\python\\python311\\lib\\site-packages (from matplotlib->roboflow) (4.40.0)\n",
      "Requirement already satisfied: packaging>=20.0 in c:\\users\\cheha\\appdata\\local\\programs\\python\\python311\\lib\\site-packages (from matplotlib->roboflow) (23.1)\n",
      "Requirement already satisfied: pyparsing>=2.3.1 in c:\\users\\cheha\\appdata\\local\\programs\\python\\python311\\lib\\site-packages (from matplotlib->roboflow) (3.1.0)\n",
      "Requirement already satisfied: charset-normalizer<4,>=2 in c:\\users\\cheha\\appdata\\local\\programs\\python\\python311\\lib\\site-packages (from requests->roboflow) (3.1.0)\n",
      "Installing collected packages: python-magic, python-dotenv, opencv-python-headless, idna, cycler, chardet, certifi, requests-toolbelt, roboflow\n",
      "  Attempting uninstall: opencv-python-headless\n",
      "    Found existing installation: opencv-python-headless 4.9.0.80\n",
      "    Uninstalling opencv-python-headless-4.9.0.80:\n",
      "      Successfully uninstalled opencv-python-headless-4.9.0.80\n",
      "  Attempting uninstall: idna\n",
      "    Found existing installation: idna 3.4\n",
      "    Uninstalling idna-3.4:\n",
      "      Successfully uninstalled idna-3.4\n",
      "  Attempting uninstall: cycler\n",
      "    Found existing installation: cycler 0.11.0\n",
      "    Uninstalling cycler-0.11.0:\n",
      "      Successfully uninstalled cycler-0.11.0\n",
      "  Attempting uninstall: certifi\n",
      "    Found existing installation: certifi 2023.5.7\n",
      "    Uninstalling certifi-2023.5.7:\n",
      "      Successfully uninstalled certifi-2023.5.7\n",
      "Successfully installed certifi-2023.7.22 chardet-4.0.0 cycler-0.10.0 idna-2.10 opencv-python-headless-4.8.0.74 python-dotenv-1.0.1 python-magic-0.4.27 requests-toolbelt-1.0.0 roboflow-1.1.27\n"
     ]
    },
    {
     "name": "stderr",
     "output_type": "stream",
     "text": [
      "ERROR: pip's dependency resolver does not currently take into account all the packages that are installed. This behaviour is the source of the following dependency conflicts.\n",
      "pandas-profiling 3.2.0 requires joblib~=1.1.0, but you have joblib 1.4.0 which is incompatible.\n",
      "\n",
      "[notice] A new release of pip available: 22.3.1 -> 24.0\n",
      "[notice] To update, run: python.exe -m pip install --upgrade pip\n"
     ]
    },
    {
     "name": "stdout",
     "output_type": "stream",
     "text": [
      "loading Roboflow workspace...\n",
      "loading Roboflow project...\n"
     ]
    },
    {
     "name": "stderr",
     "output_type": "stream",
     "text": [
      "Downloading Dataset Version Zip in New-Defects-or-not-1 to yolov9:: 100%|██████████| 63356/63356 [00:23<00:00, 2666.49it/s]"
     ]
    },
    {
     "name": "stdout",
     "output_type": "stream",
     "text": [
      "\n"
     ]
    },
    {
     "name": "stderr",
     "output_type": "stream",
     "text": [
      "\n",
      "Extracting Dataset Version Zip to New-Defects-or-not-1 in yolov9:: 100%|██████████| 1487/1487 [00:06<00:00, 237.09it/s]\n"
     ]
    }
   ],
   "source": [
    "!pip install roboflow\n",
    "\n",
    "from roboflow import Roboflow\n",
    "rf = Roboflow(api_key=\"pvxczvRsVzNHXx86GNCk\")\n",
    "project = rf.workspace(\"object-detection-glyci\").project(\"new-defects-or-not\")\n",
    "version = project.version(1)\n",
    "dataset = version.download(\"yolov9\")\n"
   ]
  },
  {
   "cell_type": "code",
   "execution_count": 2,
   "metadata": {},
   "outputs": [
    {
     "name": "stdout",
     "output_type": "stream",
     "text": [
      "Collecting yolov9\n",
      "  Downloading yolov9-0.0.1-py37.py38.py39-none-any.whl (1.6 kB)\n",
      "Collecting yolov5\n",
      "  Downloading yolov5-7.0.13-py37.py38.py39.py310-none-any.whl (953 kB)\n",
      "     ------------------------------------ 953.4/953.4 kB 585.8 kB/s eta 0:00:00\n",
      "Requirement already satisfied: gitpython>=3.1.30 in c:\\users\\cheha\\appdata\\local\\programs\\python\\python311\\lib\\site-packages (from yolov5->yolov9) (3.1.37)\n",
      "Requirement already satisfied: matplotlib>=3.3 in c:\\users\\cheha\\appdata\\local\\programs\\python\\python311\\lib\\site-packages (from yolov5->yolov9) (3.7.1)\n",
      "Requirement already satisfied: numpy>=1.18.5 in c:\\users\\cheha\\appdata\\local\\programs\\python\\python311\\lib\\site-packages (from yolov5->yolov9) (1.25.0)\n",
      "Requirement already satisfied: opencv-python>=4.1.1 in c:\\users\\cheha\\appdata\\local\\programs\\python\\python311\\lib\\site-packages (from yolov5->yolov9) (4.8.1.78)\n",
      "Requirement already satisfied: Pillow>=7.1.2 in c:\\users\\cheha\\appdata\\local\\programs\\python\\python311\\lib\\site-packages (from yolov5->yolov9) (9.5.0)\n",
      "Requirement already satisfied: psutil in c:\\users\\cheha\\appdata\\roaming\\python\\python311\\site-packages (from yolov5->yolov9) (5.9.5)\n",
      "Requirement already satisfied: PyYAML>=5.3.1 in c:\\users\\cheha\\appdata\\local\\programs\\python\\python311\\lib\\site-packages (from yolov5->yolov9) (6.0)\n",
      "Requirement already satisfied: requests>=2.23.0 in c:\\users\\cheha\\appdata\\local\\programs\\python\\python311\\lib\\site-packages (from yolov5->yolov9) (2.31.0)\n",
      "Requirement already satisfied: scipy>=1.4.1 in c:\\users\\cheha\\appdata\\local\\programs\\python\\python311\\lib\\site-packages (from yolov5->yolov9) (1.10.1)\n",
      "Collecting thop>=0.1.1\n",
      "  Using cached thop-0.1.1.post2209072238-py3-none-any.whl (15 kB)\n",
      "Requirement already satisfied: torch>=1.7.0 in c:\\users\\cheha\\appdata\\local\\programs\\python\\python311\\lib\\site-packages (from yolov5->yolov9) (2.2.2)\n",
      "Collecting torchvision>=0.8.1\n",
      "  Using cached torchvision-0.17.2-cp311-cp311-win_amd64.whl (1.2 MB)\n",
      "Requirement already satisfied: tqdm>=4.64.0 in c:\\users\\cheha\\appdata\\local\\programs\\python\\python311\\lib\\site-packages (from yolov5->yolov9) (4.65.0)\n",
      "Collecting ultralytics>=8.0.100\n",
      "  Downloading ultralytics-8.1.47-py3-none-any.whl (750 kB)\n",
      "     ------------------------------------ 750.4/750.4 kB 816.0 kB/s eta 0:00:00\n",
      "Requirement already satisfied: tensorboard>=2.4.1 in c:\\users\\cheha\\appdata\\local\\programs\\python\\python311\\lib\\site-packages (from yolov5->yolov9) (2.14.1)\n",
      "Requirement already satisfied: pandas>=1.1.4 in c:\\users\\cheha\\appdata\\local\\programs\\python\\python311\\lib\\site-packages (from yolov5->yolov9) (2.0.2)\n",
      "Requirement already satisfied: seaborn>=0.11.0 in c:\\users\\cheha\\appdata\\local\\programs\\python\\python311\\lib\\site-packages (from yolov5->yolov9) (0.12.2)\n",
      "Collecting setuptools>=65.5.1\n",
      "  Downloading setuptools-69.5.1-py3-none-any.whl (894 kB)\n",
      "     ------------------------------------ 894.6/894.6 kB 786.1 kB/s eta 0:00:00\n",
      "Collecting fire\n",
      "  Downloading fire-0.6.0.tar.gz (88 kB)\n",
      "     -------------------------------------- 88.4/88.4 kB 717.4 kB/s eta 0:00:00\n",
      "  Preparing metadata (setup.py): started\n",
      "  Preparing metadata (setup.py): finished with status 'done'\n",
      "Collecting boto3>=1.19.1\n",
      "  Downloading boto3-1.34.84-py3-none-any.whl (139 kB)\n",
      "     -------------------------------------- 139.3/139.3 kB 1.2 MB/s eta 0:00:00\n",
      "Collecting sahi>=0.11.10\n",
      "  Downloading sahi-0.11.15-py3-none-any.whl (105 kB)\n",
      "     ------------------------------------ 105.4/105.4 kB 468.9 kB/s eta 0:00:00\n",
      "Collecting huggingface-hub>=0.12.0\n",
      "  Downloading huggingface_hub-0.22.2-py3-none-any.whl (388 kB)\n",
      "     ------------------------------------ 388.9/388.9 kB 504.8 kB/s eta 0:00:00\n",
      "Requirement already satisfied: roboflow>=0.2.29 in c:\\users\\cheha\\appdata\\local\\programs\\python\\python311\\lib\\site-packages (from yolov5->yolov9) (1.1.27)\n",
      "Collecting botocore<1.35.0,>=1.34.84\n",
      "  Downloading botocore-1.34.84-py3-none-any.whl (12.1 MB)\n",
      "     -------------------------------------- 12.1/12.1 MB 404.6 kB/s eta 0:00:00\n",
      "Collecting jmespath<2.0.0,>=0.7.1\n",
      "  Downloading jmespath-1.0.1-py3-none-any.whl (20 kB)\n",
      "Collecting s3transfer<0.11.0,>=0.10.0\n",
      "  Downloading s3transfer-0.10.1-py3-none-any.whl (82 kB)\n",
      "     -------------------------------------- 82.2/82.2 kB 765.2 kB/s eta 0:00:00\n",
      "Requirement already satisfied: gitdb<5,>=4.0.1 in c:\\users\\cheha\\appdata\\local\\programs\\python\\python311\\lib\\site-packages (from gitpython>=3.1.30->yolov5->yolov9) (4.0.10)\n",
      "Requirement already satisfied: filelock in c:\\users\\cheha\\appdata\\local\\programs\\python\\python311\\lib\\site-packages (from huggingface-hub>=0.12.0->yolov5->yolov9) (3.13.4)\n",
      "Requirement already satisfied: fsspec>=2023.5.0 in c:\\users\\cheha\\appdata\\local\\programs\\python\\python311\\lib\\site-packages (from huggingface-hub>=0.12.0->yolov5->yolov9) (2024.3.1)\n",
      "Requirement already satisfied: packaging>=20.9 in c:\\users\\cheha\\appdata\\local\\programs\\python\\python311\\lib\\site-packages (from huggingface-hub>=0.12.0->yolov5->yolov9) (23.1)\n",
      "Requirement already satisfied: typing-extensions>=3.7.4.3 in c:\\users\\cheha\\appdata\\local\\programs\\python\\python311\\lib\\site-packages (from huggingface-hub>=0.12.0->yolov5->yolov9) (4.11.0)\n",
      "Requirement already satisfied: contourpy>=1.0.1 in c:\\users\\cheha\\appdata\\local\\programs\\python\\python311\\lib\\site-packages (from matplotlib>=3.3->yolov5->yolov9) (1.1.0)\n",
      "Requirement already satisfied: cycler>=0.10 in c:\\users\\cheha\\appdata\\local\\programs\\python\\python311\\lib\\site-packages (from matplotlib>=3.3->yolov5->yolov9) (0.10.0)\n",
      "Requirement already satisfied: fonttools>=4.22.0 in c:\\users\\cheha\\appdata\\local\\programs\\python\\python311\\lib\\site-packages (from matplotlib>=3.3->yolov5->yolov9) (4.40.0)\n",
      "Requirement already satisfied: kiwisolver>=1.0.1 in c:\\users\\cheha\\appdata\\local\\programs\\python\\python311\\lib\\site-packages (from matplotlib>=3.3->yolov5->yolov9) (1.4.4)\n",
      "Requirement already satisfied: pyparsing>=2.3.1 in c:\\users\\cheha\\appdata\\local\\programs\\python\\python311\\lib\\site-packages (from matplotlib>=3.3->yolov5->yolov9) (3.1.0)\n",
      "Requirement already satisfied: python-dateutil>=2.7 in c:\\users\\cheha\\appdata\\local\\programs\\python\\python311\\lib\\site-packages (from matplotlib>=3.3->yolov5->yolov9) (2.8.2)\n",
      "Requirement already satisfied: pytz>=2020.1 in c:\\users\\cheha\\appdata\\local\\programs\\python\\python311\\lib\\site-packages (from pandas>=1.1.4->yolov5->yolov9) (2023.3)\n",
      "Requirement already satisfied: tzdata>=2022.1 in c:\\users\\cheha\\appdata\\local\\programs\\python\\python311\\lib\\site-packages (from pandas>=1.1.4->yolov5->yolov9) (2023.3)\n",
      "Requirement already satisfied: charset-normalizer<4,>=2 in c:\\users\\cheha\\appdata\\local\\programs\\python\\python311\\lib\\site-packages (from requests>=2.23.0->yolov5->yolov9) (3.1.0)\n",
      "Requirement already satisfied: idna<4,>=2.5 in c:\\users\\cheha\\appdata\\local\\programs\\python\\python311\\lib\\site-packages (from requests>=2.23.0->yolov5->yolov9) (2.10)\n",
      "Requirement already satisfied: urllib3<3,>=1.21.1 in c:\\users\\cheha\\appdata\\local\\programs\\python\\python311\\lib\\site-packages (from requests>=2.23.0->yolov5->yolov9) (2.0.3)\n",
      "Requirement already satisfied: certifi>=2017.4.17 in c:\\users\\cheha\\appdata\\local\\programs\\python\\python311\\lib\\site-packages (from requests>=2.23.0->yolov5->yolov9) (2023.7.22)\n",
      "Requirement already satisfied: chardet==4.0.0 in c:\\users\\cheha\\appdata\\local\\programs\\python\\python311\\lib\\site-packages (from roboflow>=0.2.29->yolov5->yolov9) (4.0.0)\n",
      "Requirement already satisfied: opencv-python-headless==4.8.0.74 in c:\\users\\cheha\\appdata\\local\\programs\\python\\python311\\lib\\site-packages (from roboflow>=0.2.29->yolov5->yolov9) (4.8.0.74)\n",
      "Requirement already satisfied: python-dotenv in c:\\users\\cheha\\appdata\\local\\programs\\python\\python311\\lib\\site-packages (from roboflow>=0.2.29->yolov5->yolov9) (1.0.1)\n",
      "Requirement already satisfied: six in c:\\users\\cheha\\appdata\\local\\programs\\python\\python311\\lib\\site-packages (from roboflow>=0.2.29->yolov5->yolov9) (1.16.0)\n",
      "Requirement already satisfied: requests-toolbelt in c:\\users\\cheha\\appdata\\local\\programs\\python\\python311\\lib\\site-packages (from roboflow>=0.2.29->yolov5->yolov9) (1.0.0)\n",
      "Requirement already satisfied: python-magic in c:\\users\\cheha\\appdata\\local\\programs\\python\\python311\\lib\\site-packages (from roboflow>=0.2.29->yolov5->yolov9) (0.4.27)\n",
      "Collecting opencv-python>=4.1.1\n",
      "  Downloading opencv_python-4.7.0.72-cp37-abi3-win_amd64.whl (38.2 MB)\n",
      "     -------------------------------------- 38.2/38.2 MB 356.2 kB/s eta 0:00:00\n",
      "Collecting shapely>=1.8.0\n",
      "  Downloading shapely-2.0.3-cp311-cp311-win_amd64.whl (1.4 MB)\n",
      "     ---------------------------------------- 1.4/1.4 MB 622.2 kB/s eta 0:00:00\n",
      "Collecting pybboxes==0.1.6\n",
      "  Downloading pybboxes-0.1.6-py3-none-any.whl (24 kB)\n",
      "Collecting terminaltables\n",
      "  Downloading terminaltables-3.1.10-py2.py3-none-any.whl (15 kB)\n",
      "Requirement already satisfied: click in c:\\users\\cheha\\appdata\\local\\programs\\python\\python311\\lib\\site-packages (from sahi>=0.11.10->yolov5->yolov9) (8.1.7)\n",
      "Requirement already satisfied: absl-py>=0.4 in c:\\users\\cheha\\appdata\\local\\programs\\python\\python311\\lib\\site-packages (from tensorboard>=2.4.1->yolov5->yolov9) (2.0.0)\n",
      "Requirement already satisfied: grpcio>=1.48.2 in c:\\users\\cheha\\appdata\\local\\programs\\python\\python311\\lib\\site-packages (from tensorboard>=2.4.1->yolov5->yolov9) (1.59.0)\n",
      "Requirement already satisfied: google-auth<3,>=1.6.3 in c:\\users\\cheha\\appdata\\local\\programs\\python\\python311\\lib\\site-packages (from tensorboard>=2.4.1->yolov5->yolov9) (2.23.2)\n",
      "Requirement already satisfied: google-auth-oauthlib<1.1,>=0.5 in c:\\users\\cheha\\appdata\\local\\programs\\python\\python311\\lib\\site-packages (from tensorboard>=2.4.1->yolov5->yolov9) (1.0.0)\n",
      "Requirement already satisfied: markdown>=2.6.8 in c:\\users\\cheha\\appdata\\local\\programs\\python\\python311\\lib\\site-packages (from tensorboard>=2.4.1->yolov5->yolov9) (3.5)\n",
      "Requirement already satisfied: protobuf>=3.19.6 in c:\\users\\cheha\\appdata\\local\\programs\\python\\python311\\lib\\site-packages (from tensorboard>=2.4.1->yolov5->yolov9) (4.24.4)\n",
      "Requirement already satisfied: tensorboard-data-server<0.8.0,>=0.7.0 in c:\\users\\cheha\\appdata\\local\\programs\\python\\python311\\lib\\site-packages (from tensorboard>=2.4.1->yolov5->yolov9) (0.7.1)\n",
      "Requirement already satisfied: werkzeug>=1.0.1 in c:\\users\\cheha\\appdata\\local\\programs\\python\\python311\\lib\\site-packages (from tensorboard>=2.4.1->yolov5->yolov9) (3.0.0)\n",
      "Requirement already satisfied: sympy in c:\\users\\cheha\\appdata\\local\\programs\\python\\python311\\lib\\site-packages (from torch>=1.7.0->yolov5->yolov9) (1.12)\n",
      "Requirement already satisfied: networkx in c:\\users\\cheha\\appdata\\local\\programs\\python\\python311\\lib\\site-packages (from torch>=1.7.0->yolov5->yolov9) (3.1)\n",
      "Requirement already satisfied: jinja2 in c:\\users\\cheha\\appdata\\local\\programs\\python\\python311\\lib\\site-packages (from torch>=1.7.0->yolov5->yolov9) (3.1.2)\n",
      "Requirement already satisfied: colorama in c:\\users\\cheha\\appdata\\local\\programs\\python\\python311\\lib\\site-packages (from tqdm>=4.64.0->yolov5->yolov9) (0.4.6)\n",
      "Collecting py-cpuinfo\n",
      "  Downloading py_cpuinfo-9.0.0-py3-none-any.whl (22 kB)\n",
      "Requirement already satisfied: termcolor in c:\\users\\cheha\\appdata\\local\\programs\\python\\python311\\lib\\site-packages (from fire->yolov5->yolov9) (2.3.0)\n",
      "Requirement already satisfied: smmap<6,>=3.0.1 in c:\\users\\cheha\\appdata\\local\\programs\\python\\python311\\lib\\site-packages (from gitdb<5,>=4.0.1->gitpython>=3.1.30->yolov5->yolov9) (5.0.1)\n",
      "Requirement already satisfied: cachetools<6.0,>=2.0.0 in c:\\users\\cheha\\appdata\\local\\programs\\python\\python311\\lib\\site-packages (from google-auth<3,>=1.6.3->tensorboard>=2.4.1->yolov5->yolov9) (5.3.1)\n",
      "Requirement already satisfied: pyasn1-modules>=0.2.1 in c:\\users\\cheha\\appdata\\local\\programs\\python\\python311\\lib\\site-packages (from google-auth<3,>=1.6.3->tensorboard>=2.4.1->yolov5->yolov9) (0.3.0)\n",
      "Requirement already satisfied: rsa<5,>=3.1.4 in c:\\users\\cheha\\appdata\\local\\programs\\python\\python311\\lib\\site-packages (from google-auth<3,>=1.6.3->tensorboard>=2.4.1->yolov5->yolov9) (4.9)\n",
      "Requirement already satisfied: requests-oauthlib>=0.7.0 in c:\\users\\cheha\\appdata\\local\\programs\\python\\python311\\lib\\site-packages (from google-auth-oauthlib<1.1,>=0.5->tensorboard>=2.4.1->yolov5->yolov9) (1.3.1)\n",
      "Requirement already satisfied: MarkupSafe>=2.1.1 in c:\\users\\cheha\\appdata\\local\\programs\\python\\python311\\lib\\site-packages (from werkzeug>=1.0.1->tensorboard>=2.4.1->yolov5->yolov9) (2.1.3)\n",
      "Requirement already satisfied: mpmath>=0.19 in c:\\users\\cheha\\appdata\\local\\programs\\python\\python311\\lib\\site-packages (from sympy->torch>=1.7.0->yolov5->yolov9) (1.3.0)\n",
      "Requirement already satisfied: pyasn1<0.6.0,>=0.4.6 in c:\\users\\cheha\\appdata\\local\\programs\\python\\python311\\lib\\site-packages (from pyasn1-modules>=0.2.1->google-auth<3,>=1.6.3->tensorboard>=2.4.1->yolov5->yolov9) (0.5.0)\n",
      "Requirement already satisfied: oauthlib>=3.0.0 in c:\\users\\cheha\\appdata\\local\\programs\\python\\python311\\lib\\site-packages (from requests-oauthlib>=0.7.0->google-auth-oauthlib<1.1,>=0.5->tensorboard>=2.4.1->yolov5->yolov9) (3.2.2)\n",
      "Building wheels for collected packages: fire\n",
      "  Building wheel for fire (setup.py): started\n",
      "  Building wheel for fire (setup.py): finished with status 'done'\n",
      "  Created wheel for fire: filename=fire-0.6.0-py2.py3-none-any.whl size=117048 sha256=bc90259eaf5d0c29245229e6e08d4fc413018d9107b8ed884f133ae9e94f3af1\n",
      "  Stored in directory: c:\\users\\cheha\\appdata\\local\\pip\\cache\\wheels\\f6\\7f\\d0\\0d91a5b84c07fbf21b6edd40d4ecfbf5a82f977e57c3a38491\n",
      "Successfully built fire\n",
      "Installing collected packages: py-cpuinfo, terminaltables, shapely, setuptools, pybboxes, opencv-python, jmespath, fire, sahi, huggingface-hub, botocore, torchvision, thop, s3transfer, ultralytics, boto3, yolov5, yolov9\n",
      "  Attempting uninstall: setuptools\n",
      "    Found existing installation: setuptools 65.5.0\n",
      "    Uninstalling setuptools-65.5.0:\n",
      "      Successfully uninstalled setuptools-65.5.0\n",
      "  Attempting uninstall: opencv-python\n",
      "    Found existing installation: opencv-python 4.8.1.78\n",
      "    Uninstalling opencv-python-4.8.1.78:\n",
      "      Successfully uninstalled opencv-python-4.8.1.78\n"
     ]
    },
    {
     "name": "stderr",
     "output_type": "stream",
     "text": [
      "ERROR: Could not install packages due to an OSError: [WinError 5] Access is denied: 'C:\\\\Users\\\\cheha\\\\AppData\\\\Local\\\\Temp\\\\pip-uninstall-ehd59t4l\\\\cv2.pyd'\n",
      "Consider using the `--user` option or check the permissions.\n",
      "\n",
      "\n",
      "[notice] A new release of pip available: 22.3.1 -> 24.0\n",
      "[notice] To update, run: python.exe -m pip install --upgrade pip\n"
     ]
    }
   ],
   "source": [
    "!pip install yolov9\n"
   ]
  },
  {
   "cell_type": "code",
   "execution_count": 3,
   "metadata": {},
   "outputs": [
    {
     "ename": "ModuleNotFoundError",
     "evalue": "No module named 'yolov9.model'",
     "output_type": "error",
     "traceback": [
      "\u001b[1;31m---------------------------------------------------------------------------\u001b[0m",
      "\u001b[1;31mModuleNotFoundError\u001b[0m                       Traceback (most recent call last)",
      "Cell \u001b[1;32mIn[3], line 3\u001b[0m\n\u001b[0;32m      1\u001b[0m \u001b[38;5;28;01mimport\u001b[39;00m \u001b[38;5;21;01mos\u001b[39;00m\n\u001b[0;32m      2\u001b[0m \u001b[38;5;28;01mimport\u001b[39;00m \u001b[38;5;21;01myaml\u001b[39;00m\n\u001b[1;32m----> 3\u001b[0m \u001b[38;5;28;01mfrom\u001b[39;00m \u001b[38;5;21;01myolov9\u001b[39;00m\u001b[38;5;21;01m.\u001b[39;00m\u001b[38;5;21;01mmodel\u001b[39;00m \u001b[38;5;28;01mimport\u001b[39;00m YOLOv9\n\u001b[0;32m      4\u001b[0m \u001b[38;5;28;01mfrom\u001b[39;00m \u001b[38;5;21;01myolov9\u001b[39;00m\u001b[38;5;21;01m.\u001b[39;00m\u001b[38;5;21;01mutils\u001b[39;00m \u001b[38;5;28;01mimport\u001b[39;00m load_dataset, train_model\n",
      "\u001b[1;31mModuleNotFoundError\u001b[0m: No module named 'yolov9.model'"
     ]
    }
   ],
   "source": [
    "import os\n",
    "import yaml\n",
    "from yolov9.model import YOLOv9\n",
    "from yolov9.utils import load_dataset, train_model"
   ]
  }
 ],
 "metadata": {
  "kernelspec": {
   "display_name": "Python 3",
   "language": "python",
   "name": "python3"
  },
  "language_info": {
   "codemirror_mode": {
    "name": "ipython",
    "version": 3
   },
   "file_extension": ".py",
   "mimetype": "text/x-python",
   "name": "python",
   "nbconvert_exporter": "python",
   "pygments_lexer": "ipython3",
   "version": "3.11.1"
  }
 },
 "nbformat": 4,
 "nbformat_minor": 2
}
