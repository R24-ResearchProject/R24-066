{
 "cells": [
  {
   "cell_type": "code",
   "execution_count": 1,
   "metadata": {},
   "outputs": [],
   "source": [
    "import pandas as pd\n",
    "# import matplotlib.pyplot as plt\n",
    "from sklearn.ensemble import RandomForestRegressor"
   ]
  },
  {
   "cell_type": "code",
   "execution_count": 15,
   "metadata": {},
   "outputs": [],
   "source": [
    "# Read the data\n",
    "time_data = pd.read_csv('C:/Users/user/Desktop/R24-066/Component 04/Backend/Dataset/time_series_data_02.csv')"
   ]
  },
  {
   "cell_type": "code",
   "execution_count": 16,
   "metadata": {},
   "outputs": [],
   "source": [
    "# Convert 'Date' column to datetime\n",
    "time_data['Date'] = pd.to_datetime(time_data['Date'])"
   ]
  },
  {
   "cell_type": "code",
   "execution_count": 17,
   "metadata": {},
   "outputs": [],
   "source": [
    "# Define custom thresholds for high and low defect rates (specific point or level used as a reference for making decisions)\n",
    "high_threshold = 0.05  # Modify this threshold as needed\n",
    "low_threshold = 0.01   # Modify this threshold as needed"
   ]
  },
  {
   "cell_type": "code",
   "execution_count": 18,
   "metadata": {},
   "outputs": [],
   "source": [
    "# Initialize variables to store highest and lowest defect rates\n",
    "highest_defect = {'Weekday': None, 'Defect_Type': None, 'Defect_Rate': -float('inf')}\n",
    "lowest_defect = {'Weekday': None, 'Defect_Type': None, 'Defect_Rate': float('inf')}"
   ]
  },
  {
   "cell_type": "code",
   "execution_count": 19,
   "metadata": {},
   "outputs": [],
   "source": [
    "# List of defect types and weekdays\n",
    "defect_types = ['Openseam', 'Runoff', 'SPI Errors', 'High Low']\n",
    "weekdays = ['Monday', 'Tuesday', 'Wednesday', 'Thursday', 'Friday']"
   ]
  },
  {
   "cell_type": "code",
   "execution_count": 28,
   "metadata": {},
   "outputs": [
    {
     "name": "stdout",
     "output_type": "stream",
     "text": [
      "Highest Defect Rate: 0.787 for Runoff\n",
      "Lowest Defect Rate: 0.071 for Openseam\n"
     ]
    }
   ],
   "source": [
    "# Loop through each defect type\n",
    "for i, defect_type in enumerate(defect_types):\n",
    "    # Initialize lists to store defect rates and weekdays\n",
    "    actual_defect_rates = []\n",
    "    forecasted_defect_rates = []\n",
    "    defect_weekdays = []\n",
    "\n",
    "    # Loop through each weekday\n",
    "    for weekday in weekdays:\n",
    "        # Filter data for the current defect type and weekday\n",
    "        data_subset = time_data[(time_data['Date'].dt.day_name() == weekday) & (time_data['Defect_Type'] == defect_type)]\n",
    "\n",
    "        # Split data into features and target variable\n",
    "        X = data_subset[['Date']]\n",
    "        y = data_subset['Defect_Rate']\n",
    "\n",
    "        # Initialize and train the model\n",
    "        model = RandomForestRegressor()\n",
    "        model.fit(X, y)\n",
    "\n",
    "        # Forecast for the next weekday\n",
    "        future_date = X['Date'].max() + pd.offsets.CustomBusinessDay(weekmask='Mon Tue Wed Thu Fri')\n",
    "        future_prediction = model.predict(pd.DataFrame({'Date': [future_date]}))[0]\n",
    "\n",
    "        # Update highest and lowest defect rates\n",
    "        if future_prediction > highest_defect['Defect_Rate']:\n",
    "            highest_defect['Weekday'] = weekday\n",
    "            highest_defect['Defect_Type'] = defect_type\n",
    "            highest_defect['Defect_Rate'] = future_prediction\n",
    "        if future_prediction < lowest_defect['Defect_Rate']:\n",
    "            lowest_defect['Weekday'] = weekday\n",
    "            lowest_defect['Defect_Type'] = defect_type\n",
    "            lowest_defect['Defect_Rate'] = future_prediction\n",
    "\n",
    "        # Append defect rate and weekday to lists\n",
    "        if not data_subset.empty:\n",
    "            actual_defect_rates.append(data_subset['Defect_Rate'].values[0])\n",
    "        else:\n",
    "            actual_defect_rates.append(None)\n",
    "        forecasted_defect_rates.append(future_prediction)\n",
    "        defect_weekdays.append(weekday)\n",
    "\n",
    "# Print the results with only three decimal places and including the defect type\n",
    "print(\"Highest Defect Rate: {:.3f} for {}\".format(highest_defect['Defect_Rate'], highest_defect['Defect_Type']))\n",
    "print(\"Lowest Defect Rate: {:.3f} for {}\".format(lowest_defect['Defect_Rate'], lowest_defect['Defect_Type']))"
   ]
  }
 ],
 "metadata": {
  "kernelspec": {
   "display_name": "Python 3",
   "language": "python",
   "name": "python3"
  },
  "language_info": {
   "codemirror_mode": {
    "name": "ipython",
    "version": 3
   },
   "file_extension": ".py",
   "mimetype": "text/x-python",
   "name": "python",
   "nbconvert_exporter": "python",
   "pygments_lexer": "ipython3",
   "version": "3.12.3"
  }
 },
 "nbformat": 4,
 "nbformat_minor": 2
}
