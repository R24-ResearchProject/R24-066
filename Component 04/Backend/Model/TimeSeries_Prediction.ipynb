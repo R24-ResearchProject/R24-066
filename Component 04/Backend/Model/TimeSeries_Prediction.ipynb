{
  "cells": [
    {
      "cell_type": "code",
      "execution_count": 2,
      "metadata": {
        "id": "p7aJy6GH6_cR"
      },
      "outputs": [],
      "source": [
        "import numpy as np\n",
        "import pandas as pd\n",
        "from sklearn.model_selection import train_test_split\n",
        "from sklearn.linear_model import LogisticRegression\n",
        "from sklearn.metrics import accuracy_score"
      ]
    },
    {
      "cell_type": "code",
      "execution_count": 3,
      "metadata": {
        "id": "H80HzUdX7ydW"
      },
      "outputs": [],
      "source": [
        "exp_data = pd.read_csv('C:\\\\Users\\\\user\\\\Desktop\\\\R24-066\\\\Component 04\\\\Dataset\\\\demographic_data_update_02.csv')\n",
        "exp_data2 = pd.read_csv('C:\\\\Users\\\\user\\\\Desktop\\\\R24-066\\\\Component 04\\\\Dataset\\\\demographic_data_update_03.csv')"
      ]
    },
    {
      "cell_type": "code",
      "execution_count": 4,
      "metadata": {
        "colab": {
          "base_uri": "https://localhost:8080/",
          "height": 206
        },
        "id": "ljGHhDMz73Vq",
        "outputId": "2d267c4c-b76f-43ae-b71c-418ccbbc55d5"
      },
      "outputs": [
        {
          "data": {
            "text/html": [
              "<div>\n",
              "<style scoped>\n",
              "    .dataframe tbody tr th:only-of-type {\n",
              "        vertical-align: middle;\n",
              "    }\n",
              "\n",
              "    .dataframe tbody tr th {\n",
              "        vertical-align: top;\n",
              "    }\n",
              "\n",
              "    .dataframe thead th {\n",
              "        text-align: right;\n",
              "    }\n",
              "</style>\n",
              "<table border=\"1\" class=\"dataframe\">\n",
              "  <thead>\n",
              "    <tr style=\"text-align: right;\">\n",
              "      <th></th>\n",
              "      <th>ID</th>\n",
              "      <th>Name</th>\n",
              "      <th>Joining Date</th>\n",
              "      <th>Age</th>\n",
              "      <th>Birth Date</th>\n",
              "      <th>Gender</th>\n",
              "      <th>Education</th>\n",
              "      <th>Average Working Hours</th>\n",
              "      <th>Skill Level</th>\n",
              "      <th>Defect Type</th>\n",
              "      <th>Defect Rate</th>\n",
              "    </tr>\n",
              "  </thead>\n",
              "  <tbody>\n",
              "    <tr>\n",
              "      <th>0</th>\n",
              "      <td>53333</td>\n",
              "      <td>Eric Carr</td>\n",
              "      <td>2023-12-14</td>\n",
              "      <td>25</td>\n",
              "      <td>1999-04-24</td>\n",
              "      <td>Female</td>\n",
              "      <td>Diploma</td>\n",
              "      <td>30.952374</td>\n",
              "      <td>Intermediate</td>\n",
              "      <td>SPI Errors</td>\n",
              "      <td>0.474453</td>\n",
              "    </tr>\n",
              "    <tr>\n",
              "      <th>1</th>\n",
              "      <td>53333</td>\n",
              "      <td>Eric Carr</td>\n",
              "      <td>2023-12-14</td>\n",
              "      <td>25</td>\n",
              "      <td>1999-04-24</td>\n",
              "      <td>Female</td>\n",
              "      <td>Diploma</td>\n",
              "      <td>31.083474</td>\n",
              "      <td>Intermediate</td>\n",
              "      <td>SPI Errors</td>\n",
              "      <td>0.753039</td>\n",
              "    </tr>\n",
              "    <tr>\n",
              "      <th>2</th>\n",
              "      <td>53333</td>\n",
              "      <td>Eric Carr</td>\n",
              "      <td>2023-12-14</td>\n",
              "      <td>25</td>\n",
              "      <td>1999-04-24</td>\n",
              "      <td>Female</td>\n",
              "      <td>Diploma</td>\n",
              "      <td>37.246623</td>\n",
              "      <td>Intermediate</td>\n",
              "      <td>High Low</td>\n",
              "      <td>0.173610</td>\n",
              "    </tr>\n",
              "    <tr>\n",
              "      <th>3</th>\n",
              "      <td>53333</td>\n",
              "      <td>Eric Carr</td>\n",
              "      <td>2023-12-14</td>\n",
              "      <td>25</td>\n",
              "      <td>1999-04-24</td>\n",
              "      <td>Female</td>\n",
              "      <td>Diploma</td>\n",
              "      <td>31.716454</td>\n",
              "      <td>Intermediate</td>\n",
              "      <td>High Low</td>\n",
              "      <td>0.865333</td>\n",
              "    </tr>\n",
              "    <tr>\n",
              "      <th>4</th>\n",
              "      <td>53333</td>\n",
              "      <td>Eric Carr</td>\n",
              "      <td>2023-12-14</td>\n",
              "      <td>25</td>\n",
              "      <td>1999-04-24</td>\n",
              "      <td>Female</td>\n",
              "      <td>Diploma</td>\n",
              "      <td>32.490001</td>\n",
              "      <td>Intermediate</td>\n",
              "      <td>High Low</td>\n",
              "      <td>0.846176</td>\n",
              "    </tr>\n",
              "  </tbody>\n",
              "</table>\n",
              "</div>"
            ],
            "text/plain": [
              "      ID       Name Joining Date  Age  Birth Date  Gender Education  \\\n",
              "0  53333  Eric Carr   2023-12-14   25  1999-04-24  Female   Diploma   \n",
              "1  53333  Eric Carr   2023-12-14   25  1999-04-24  Female   Diploma   \n",
              "2  53333  Eric Carr   2023-12-14   25  1999-04-24  Female   Diploma   \n",
              "3  53333  Eric Carr   2023-12-14   25  1999-04-24  Female   Diploma   \n",
              "4  53333  Eric Carr   2023-12-14   25  1999-04-24  Female   Diploma   \n",
              "\n",
              "   Average Working Hours   Skill Level Defect Type  Defect Rate  \n",
              "0              30.952374  Intermediate  SPI Errors     0.474453  \n",
              "1              31.083474  Intermediate  SPI Errors     0.753039  \n",
              "2              37.246623  Intermediate    High Low     0.173610  \n",
              "3              31.716454  Intermediate    High Low     0.865333  \n",
              "4              32.490001  Intermediate    High Low     0.846176  "
            ]
          },
          "execution_count": 4,
          "metadata": {},
          "output_type": "execute_result"
        }
      ],
      "source": [
        "exp_data.head()"
      ]
    },
    {
      "cell_type": "code",
      "execution_count": 5,
      "metadata": {
        "colab": {
          "base_uri": "https://localhost:8080/"
        },
        "id": "Z0Co7PWg8P6Q",
        "outputId": "30c543dd-6573-4099-c84d-4bb3ba2dd63b"
      },
      "outputs": [
        {
          "data": {
            "text/plain": [
              "ID                       5000\n",
              "Name                     5000\n",
              "Joining Date             5000\n",
              "Age                      5000\n",
              "Birth Date               5000\n",
              "Gender                   5000\n",
              "Education                5000\n",
              "Average Working Hours    5000\n",
              "Skill Level              5000\n",
              "Defect Type              5000\n",
              "Defect Rate              5000\n",
              "dtype: int64"
            ]
          },
          "execution_count": 5,
          "metadata": {},
          "output_type": "execute_result"
        }
      ],
      "source": [
        "exp_data.count()"
      ]
    },
    {
      "cell_type": "code",
      "execution_count": 6,
      "metadata": {
        "id": "_BD1lO2b8aLB"
      },
      "outputs": [],
      "source": [
        "fields_to_drop = ['ID', 'Name', 'Birth Date', 'Age', 'Gender', 'Education', 'Average Working Hours', 'Skill Level']\n",
        "\n",
        "# Drop the specified fields\n",
        "exp_data.drop(columns=fields_to_drop, inplace=True)"
      ]
    },
    {
      "cell_type": "code",
      "execution_count": 7,
      "metadata": {
        "colab": {
          "base_uri": "https://localhost:8080/",
          "height": 206
        },
        "id": "MNi2tVjo9GUm",
        "outputId": "166d795e-0e9e-4657-98fe-0b65eed9e0e2"
      },
      "outputs": [
        {
          "data": {
            "text/html": [
              "<div>\n",
              "<style scoped>\n",
              "    .dataframe tbody tr th:only-of-type {\n",
              "        vertical-align: middle;\n",
              "    }\n",
              "\n",
              "    .dataframe tbody tr th {\n",
              "        vertical-align: top;\n",
              "    }\n",
              "\n",
              "    .dataframe thead th {\n",
              "        text-align: right;\n",
              "    }\n",
              "</style>\n",
              "<table border=\"1\" class=\"dataframe\">\n",
              "  <thead>\n",
              "    <tr style=\"text-align: right;\">\n",
              "      <th></th>\n",
              "      <th>Joining Date</th>\n",
              "      <th>Defect Type</th>\n",
              "      <th>Defect Rate</th>\n",
              "    </tr>\n",
              "  </thead>\n",
              "  <tbody>\n",
              "    <tr>\n",
              "      <th>0</th>\n",
              "      <td>2023-12-14</td>\n",
              "      <td>SPI Errors</td>\n",
              "      <td>0.474453</td>\n",
              "    </tr>\n",
              "    <tr>\n",
              "      <th>1</th>\n",
              "      <td>2023-12-14</td>\n",
              "      <td>SPI Errors</td>\n",
              "      <td>0.753039</td>\n",
              "    </tr>\n",
              "    <tr>\n",
              "      <th>2</th>\n",
              "      <td>2023-12-14</td>\n",
              "      <td>High Low</td>\n",
              "      <td>0.173610</td>\n",
              "    </tr>\n",
              "    <tr>\n",
              "      <th>3</th>\n",
              "      <td>2023-12-14</td>\n",
              "      <td>High Low</td>\n",
              "      <td>0.865333</td>\n",
              "    </tr>\n",
              "    <tr>\n",
              "      <th>4</th>\n",
              "      <td>2023-12-14</td>\n",
              "      <td>High Low</td>\n",
              "      <td>0.846176</td>\n",
              "    </tr>\n",
              "  </tbody>\n",
              "</table>\n",
              "</div>"
            ],
            "text/plain": [
              "  Joining Date Defect Type  Defect Rate\n",
              "0   2023-12-14  SPI Errors     0.474453\n",
              "1   2023-12-14  SPI Errors     0.753039\n",
              "2   2023-12-14    High Low     0.173610\n",
              "3   2023-12-14    High Low     0.865333\n",
              "4   2023-12-14    High Low     0.846176"
            ]
          },
          "execution_count": 7,
          "metadata": {},
          "output_type": "execute_result"
        }
      ],
      "source": [
        "exp_data.head()"
      ]
    },
    {
      "cell_type": "code",
      "execution_count": 8,
      "metadata": {
        "id": "XgHwgCm79K1c"
      },
      "outputs": [],
      "source": [
        "Y = exp_data['Defect Rate']\n",
        "X = exp_data.drop(\"Defect Rate\", axis = 1)"
      ]
    },
    {
      "cell_type": "code",
      "execution_count": 9,
      "metadata": {
        "colab": {
          "base_uri": "https://localhost:8080/"
        },
        "id": "lodB9dLB9YHN",
        "outputId": "c3b9fc20-4e5d-4eeb-fe7f-0eb96c479c66"
      },
      "outputs": [
        {
          "data": {
            "text/plain": [
              "array([[0.0, 0.0, 0.0, 1.0, '2023-12-14'],\n",
              "       [0.0, 0.0, 0.0, 1.0, '2023-12-14'],\n",
              "       [1.0, 0.0, 0.0, 0.0, '2023-12-14'],\n",
              "       ...,\n",
              "       [0.0, 0.0, 1.0, 0.0, '2022-04-27'],\n",
              "       [0.0, 0.0, 1.0, 0.0, '2022-04-27'],\n",
              "       [1.0, 0.0, 0.0, 0.0, '2022-04-27']], dtype=object)"
            ]
          },
          "execution_count": 9,
          "metadata": {},
          "output_type": "execute_result"
        }
      ],
      "source": [
        "from sklearn.preprocessing import OneHotEncoder\n",
        "from sklearn.compose import ColumnTransformer\n",
        "categorical_features = [\"Defect Type\"]\n",
        "one_hot = OneHotEncoder()\n",
        "transformed = ColumnTransformer([(\"one_hot\", one_hot, categorical_features)], remainder=\"passthrough\")\n",
        "\n",
        "transformed_x = transformed.fit_transform(X)\n",
        "transformed_x"
      ]
    },
    {
      "cell_type": "code",
      "execution_count": 10,
      "metadata": {
        "colab": {
          "base_uri": "https://localhost:8080/"
        },
        "id": "kSaYPuH99gjW",
        "outputId": "deed1cd3-593a-4ef4-8910-0e8d9ef2e954"
      },
      "outputs": [
        {
          "data": {
            "text/plain": [
              "(5000, 5)"
            ]
          },
          "execution_count": 10,
          "metadata": {},
          "output_type": "execute_result"
        }
      ],
      "source": [
        "transformed_x.shape"
      ]
    },
    {
      "cell_type": "code",
      "execution_count": 11,
      "metadata": {
        "colab": {
          "base_uri": "https://localhost:8080/"
        },
        "id": "0_T4IUZX_kw9",
        "outputId": "7f24d5be-1bf5-4394-f2fa-ff9f7eb57f72"
      },
      "outputs": [
        {
          "name": "stdout",
          "output_type": "stream",
          "text": [
            "False\n"
          ]
        }
      ],
      "source": [
        "has_null_values = any(x is None for x in exp_data['Joining Date'])\n",
        "\n",
        "# Print result\n",
        "print(has_null_values)"
      ]
    },
    {
      "cell_type": "code",
      "execution_count": 12,
      "metadata": {
        "colab": {
          "base_uri": "https://localhost:8080/",
          "height": 193
        },
        "id": "vtN94oWh9qqq",
        "outputId": "271befa8-65e3-44ed-a745-5495edb65406"
      },
      "outputs": [
        {
          "ename": "IndexError",
          "evalue": "only integers, slices (`:`), ellipsis (`...`), numpy.newaxis (`None`) and integer or boolean arrays are valid indices",
          "output_type": "error",
          "traceback": [
            "\u001b[1;31m---------------------------------------------------------------------------\u001b[0m",
            "\u001b[1;31mIndexError\u001b[0m                                Traceback (most recent call last)",
            "Cell \u001b[1;32mIn[12], line 20\u001b[0m\n\u001b[0;32m     17\u001b[0m label_encoder \u001b[38;5;241m=\u001b[39m LabelEncoder()\n\u001b[0;32m     19\u001b[0m \u001b[38;5;66;03m# Convert the 'Joining Date' column to encoded integers\u001b[39;00m\n\u001b[1;32m---> 20\u001b[0m X_train[\u001b[38;5;124m'\u001b[39m\u001b[38;5;124mJoining Date\u001b[39m\u001b[38;5;124m'\u001b[39m] \u001b[38;5;241m=\u001b[39m label_encoder\u001b[38;5;241m.\u001b[39mfit_transform(\u001b[43mX_train\u001b[49m\u001b[43m[\u001b[49m\u001b[38;5;124;43m'\u001b[39;49m\u001b[38;5;124;43mJoining Date\u001b[39;49m\u001b[38;5;124;43m'\u001b[39;49m\u001b[43m]\u001b[49m)\n\u001b[0;32m     21\u001b[0m X_test[\u001b[38;5;124m'\u001b[39m\u001b[38;5;124mJoining Date\u001b[39m\u001b[38;5;124m'\u001b[39m] \u001b[38;5;241m=\u001b[39m label_encoder\u001b[38;5;241m.\u001b[39mtransform(X_test[\u001b[38;5;124m'\u001b[39m\u001b[38;5;124mJoining Date\u001b[39m\u001b[38;5;124m'\u001b[39m])\n",
            "\u001b[1;31mIndexError\u001b[0m: only integers, slices (`:`), ellipsis (`...`), numpy.newaxis (`None`) and integer or boolean arrays are valid indices"
          ]
        }
      ],
      "source": [
        "from sklearn.ensemble import RandomForestRegressor\n",
        "from sklearn.model_selection import train_test_split\n",
        "from sklearn.preprocessing import LabelEncoder\n",
        "import numpy as np\n",
        "\n",
        "# Assuming '2022-10-04' is in a column named 'Joining Date'\n",
        "# Make sure 'Joining Date' contains string values representing dates\n",
        "\n",
        "# Instantiate the RandomForestRegressor model\n",
        "model = RandomForestRegressor()\n",
        "\n",
        "# Split the data into training and testing sets\n",
        "np.random.seed(42)\n",
        "X_train, X_test, Y_train, Y_test = train_test_split(transformed_x, Y, test_size=0.2)\n",
        "\n",
        "# Instantiate the LabelEncoder\n",
        "label_encoder = LabelEncoder()\n",
        "\n",
        "# Convert the 'Joining Date' column to encoded integers\n",
        "X_train['Joining Date'] = label_encoder.fit_transform(X_train['Joining Date'])\n",
        "X_test['Joining Date'] = label_encoder.transform(X_test['Joining Date'])\n"
      ]
    },
    {
      "cell_type": "markdown",
      "metadata": {
        "id": "cyAq2Jn-LD4e"
      },
      "source": [
        "2nd Approch\n"
      ]
    },
    {
      "cell_type": "code",
      "execution_count": 13,
      "metadata": {
        "id": "knqhMtktLIOM"
      },
      "outputs": [],
      "source": [
        "import numpy as np\n",
        "import pandas as pd\n",
        "from sklearn.model_selection import train_test_split\n",
        "from sklearn.linear_model import LogisticRegression\n",
        "from sklearn.metrics import accuracy_score"
      ]
    },
    {
      "cell_type": "code",
      "execution_count": 14,
      "metadata": {
        "id": "ZeYeg68mLQ1p"
      },
      "outputs": [],
      "source": [
        "time_data = pd.read_csv('C:/Users/user/Desktop/R24-066/Component 04/Backend/Dataset/time_series_data_01.csv')"
      ]
    },
    {
      "cell_type": "code",
      "execution_count": 15,
      "metadata": {
        "colab": {
          "base_uri": "https://localhost:8080/",
          "height": 206
        },
        "id": "SlgO_f7KLwPj",
        "outputId": "24f70edc-9bc9-48c1-f1bc-d64d7f635b91"
      },
      "outputs": [
        {
          "data": {
            "text/html": [
              "<div>\n",
              "<style scoped>\n",
              "    .dataframe tbody tr th:only-of-type {\n",
              "        vertical-align: middle;\n",
              "    }\n",
              "\n",
              "    .dataframe tbody tr th {\n",
              "        vertical-align: top;\n",
              "    }\n",
              "\n",
              "    .dataframe thead th {\n",
              "        text-align: right;\n",
              "    }\n",
              "</style>\n",
              "<table border=\"1\" class=\"dataframe\">\n",
              "  <thead>\n",
              "    <tr style=\"text-align: right;\">\n",
              "      <th></th>\n",
              "      <th>Employee_ID</th>\n",
              "      <th>Date</th>\n",
              "      <th>Defect_Type</th>\n",
              "      <th>Defect_Count</th>\n",
              "      <th>Defect_Rate</th>\n",
              "      <th>Weekday</th>\n",
              "    </tr>\n",
              "  </thead>\n",
              "  <tbody>\n",
              "    <tr>\n",
              "      <th>0</th>\n",
              "      <td>EMP592</td>\n",
              "      <td>2024-01-01</td>\n",
              "      <td>Openseam</td>\n",
              "      <td>63</td>\n",
              "      <td>83.339036</td>\n",
              "      <td>Monday</td>\n",
              "    </tr>\n",
              "    <tr>\n",
              "      <th>1</th>\n",
              "      <td>EMP592</td>\n",
              "      <td>2024-01-01</td>\n",
              "      <td>SPI Errors</td>\n",
              "      <td>68</td>\n",
              "      <td>35.136620</td>\n",
              "      <td>Monday</td>\n",
              "    </tr>\n",
              "    <tr>\n",
              "      <th>2</th>\n",
              "      <td>EMP592</td>\n",
              "      <td>2024-01-01</td>\n",
              "      <td>High Low</td>\n",
              "      <td>91</td>\n",
              "      <td>67.000427</td>\n",
              "      <td>Monday</td>\n",
              "    </tr>\n",
              "    <tr>\n",
              "      <th>3</th>\n",
              "      <td>EMP592</td>\n",
              "      <td>2024-01-01</td>\n",
              "      <td>Runoff</td>\n",
              "      <td>57</td>\n",
              "      <td>32.988883</td>\n",
              "      <td>Monday</td>\n",
              "    </tr>\n",
              "    <tr>\n",
              "      <th>4</th>\n",
              "      <td>EMP592</td>\n",
              "      <td>2024-01-02</td>\n",
              "      <td>Runoff</td>\n",
              "      <td>57</td>\n",
              "      <td>71.167554</td>\n",
              "      <td>Tuesday</td>\n",
              "    </tr>\n",
              "  </tbody>\n",
              "</table>\n",
              "</div>"
            ],
            "text/plain": [
              "  Employee_ID        Date Defect_Type  Defect_Count  Defect_Rate  Weekday\n",
              "0      EMP592  2024-01-01    Openseam            63    83.339036   Monday\n",
              "1      EMP592  2024-01-01  SPI Errors            68    35.136620   Monday\n",
              "2      EMP592  2024-01-01    High Low            91    67.000427   Monday\n",
              "3      EMP592  2024-01-01      Runoff            57    32.988883   Monday\n",
              "4      EMP592  2024-01-02      Runoff            57    71.167554  Tuesday"
            ]
          },
          "execution_count": 15,
          "metadata": {},
          "output_type": "execute_result"
        }
      ],
      "source": [
        "time_data.head()"
      ]
    },
    {
      "cell_type": "code",
      "execution_count": 16,
      "metadata": {
        "colab": {
          "base_uri": "https://localhost:8080/"
        },
        "id": "5oTnAol4MML5",
        "outputId": "383f5944-f21f-4a32-ec14-3e1de3fe95e1"
      },
      "outputs": [
        {
          "data": {
            "text/plain": [
              "Employee_ID     250\n",
              "Date            250\n",
              "Defect_Type     250\n",
              "Defect_Count    250\n",
              "Defect_Rate     250\n",
              "Weekday         250\n",
              "dtype: int64"
            ]
          },
          "execution_count": 16,
          "metadata": {},
          "output_type": "execute_result"
        }
      ],
      "source": [
        "time_data.count()"
      ]
    },
    {
      "cell_type": "code",
      "execution_count": 17,
      "metadata": {
        "id": "tbNsj5zJMQF3"
      },
      "outputs": [],
      "source": [
        "fields_to_drop = ['Employee_ID', 'Date']\n",
        "\n",
        "# Drop the specified fields\n",
        "time_data.drop(columns=fields_to_drop, inplace=True)"
      ]
    },
    {
      "cell_type": "code",
      "execution_count": 18,
      "metadata": {
        "id": "jNZMDqXEQd_m"
      },
      "outputs": [],
      "source": [
        "# fields_to_drop = ['Weekday']\n",
        "\n",
        "# # Drop the specified fields\n",
        "# time_data.drop(columns=fields_to_drop, inplace=True)"
      ]
    },
    {
      "cell_type": "code",
      "execution_count": 19,
      "metadata": {
        "colab": {
          "base_uri": "https://localhost:8080/",
          "height": 206
        },
        "id": "BkwPx2EEM820",
        "outputId": "7041f29d-0a16-4f7b-ad98-27962e934862"
      },
      "outputs": [
        {
          "data": {
            "text/html": [
              "<div>\n",
              "<style scoped>\n",
              "    .dataframe tbody tr th:only-of-type {\n",
              "        vertical-align: middle;\n",
              "    }\n",
              "\n",
              "    .dataframe tbody tr th {\n",
              "        vertical-align: top;\n",
              "    }\n",
              "\n",
              "    .dataframe thead th {\n",
              "        text-align: right;\n",
              "    }\n",
              "</style>\n",
              "<table border=\"1\" class=\"dataframe\">\n",
              "  <thead>\n",
              "    <tr style=\"text-align: right;\">\n",
              "      <th></th>\n",
              "      <th>Defect_Type</th>\n",
              "      <th>Defect_Count</th>\n",
              "      <th>Defect_Rate</th>\n",
              "      <th>Weekday</th>\n",
              "    </tr>\n",
              "  </thead>\n",
              "  <tbody>\n",
              "    <tr>\n",
              "      <th>0</th>\n",
              "      <td>Openseam</td>\n",
              "      <td>63</td>\n",
              "      <td>83.339036</td>\n",
              "      <td>Monday</td>\n",
              "    </tr>\n",
              "    <tr>\n",
              "      <th>1</th>\n",
              "      <td>SPI Errors</td>\n",
              "      <td>68</td>\n",
              "      <td>35.136620</td>\n",
              "      <td>Monday</td>\n",
              "    </tr>\n",
              "    <tr>\n",
              "      <th>2</th>\n",
              "      <td>High Low</td>\n",
              "      <td>91</td>\n",
              "      <td>67.000427</td>\n",
              "      <td>Monday</td>\n",
              "    </tr>\n",
              "    <tr>\n",
              "      <th>3</th>\n",
              "      <td>Runoff</td>\n",
              "      <td>57</td>\n",
              "      <td>32.988883</td>\n",
              "      <td>Monday</td>\n",
              "    </tr>\n",
              "    <tr>\n",
              "      <th>4</th>\n",
              "      <td>Runoff</td>\n",
              "      <td>57</td>\n",
              "      <td>71.167554</td>\n",
              "      <td>Tuesday</td>\n",
              "    </tr>\n",
              "  </tbody>\n",
              "</table>\n",
              "</div>"
            ],
            "text/plain": [
              "  Defect_Type  Defect_Count  Defect_Rate  Weekday\n",
              "0    Openseam            63    83.339036   Monday\n",
              "1  SPI Errors            68    35.136620   Monday\n",
              "2    High Low            91    67.000427   Monday\n",
              "3      Runoff            57    32.988883   Monday\n",
              "4      Runoff            57    71.167554  Tuesday"
            ]
          },
          "execution_count": 19,
          "metadata": {},
          "output_type": "execute_result"
        }
      ],
      "source": [
        "time_data.head()"
      ]
    },
    {
      "cell_type": "code",
      "execution_count": 20,
      "metadata": {
        "id": "y46GFqsoNdRo"
      },
      "outputs": [],
      "source": [
        "Y = time_data['Defect_Rate']\n",
        "X = time_data.drop(\"Defect_Rate\", axis = 1)"
      ]
    },
    {
      "cell_type": "code",
      "execution_count": 21,
      "metadata": {
        "colab": {
          "base_uri": "https://localhost:8080/"
        },
        "id": "jqePBn7HNEbW",
        "outputId": "3bd0f366-ffa6-40ec-dfa2-490ac554af1b"
      },
      "outputs": [
        {
          "data": {
            "text/plain": [
              "array([[ 0.,  1.,  0., ...,  0.,  0., 63.],\n",
              "       [ 0.,  0.,  0., ...,  0.,  0., 68.],\n",
              "       [ 1.,  0.,  0., ...,  0.,  0., 91.],\n",
              "       ...,\n",
              "       [ 0.,  0.,  1., ...,  1.,  0., 80.],\n",
              "       [ 0.,  0.,  0., ...,  0.,  1., 86.],\n",
              "       [ 0.,  0.,  1., ...,  0.,  1., 65.]])"
            ]
          },
          "execution_count": 21,
          "metadata": {},
          "output_type": "execute_result"
        }
      ],
      "source": [
        "from sklearn.preprocessing import OneHotEncoder\n",
        "from sklearn.compose import ColumnTransformer\n",
        "categorical_features = [\"Defect_Type\", \"Weekday\"]\n",
        "one_hot = OneHotEncoder()\n",
        "transformed = ColumnTransformer([(\"one_hot\", one_hot, categorical_features)], remainder=\"passthrough\")\n",
        "\n",
        "transformed_x = transformed.fit_transform(X)\n",
        "transformed_x"
      ]
    },
    {
      "cell_type": "code",
      "execution_count": 22,
      "metadata": {
        "colab": {
          "base_uri": "https://localhost:8080/"
        },
        "id": "42nx3iebN6vd",
        "outputId": "5a67cfbd-713b-433e-ee42-1a724a6fc52c"
      },
      "outputs": [
        {
          "data": {
            "text/plain": [
              "(250, 10)"
            ]
          },
          "execution_count": 22,
          "metadata": {},
          "output_type": "execute_result"
        }
      ],
      "source": [
        "transformed_x.shape"
      ]
    },
    {
      "cell_type": "code",
      "execution_count": 23,
      "metadata": {
        "colab": {
          "base_uri": "https://localhost:8080/"
        },
        "id": "OZy3keAxOOis",
        "outputId": "fd604d7e-ed5d-4008-86be-7f30832cb72e"
      },
      "outputs": [
        {
          "data": {
            "text/plain": [
              "-0.1811371942409632"
            ]
          },
          "execution_count": 23,
          "metadata": {},
          "output_type": "execute_result"
        }
      ],
      "source": [
        "from sklearn.ensemble import RandomForestRegressor\n",
        "\n",
        "# Model\n",
        "model = RandomForestRegressor()\n",
        "np.random.seed(42)\n",
        "X_train, X_test, Y_train, Y_test = train_test_split(transformed_x, Y, test_size=0.2)\n",
        "model.fit(X_train, Y_train)\n",
        "model.score(X_test, Y_test)"
      ]
    },
    {
      "cell_type": "code",
      "execution_count": 25,
      "metadata": {
        "colab": {
          "base_uri": "https://localhost:8080/"
        },
        "id": "0nRaRIS_RQpk",
        "outputId": "881f2edd-1f37-48f5-b3fd-e6705384149f"
      },
      "outputs": [
        {
          "name": "stdout",
          "output_type": "stream",
          "text": [
            "[25.32726896]\n"
          ]
        }
      ],
      "source": [
        "# Function to convert occurrences and number to input data\n",
        "def convert_to_input_data(occurrences, weekday, number):\n",
        "    # Combine occurrences and number into an array\n",
        "    input_data = np.array([*occurrences, *weekday, number])\n",
        "    return input_data\n",
        "\n",
        "# Model prediction function\n",
        "def make_prediction(model, input_data):\n",
        "    # Reshape the input data for prediction\n",
        "    input_data_reshaped = np.asarray(input_data).reshape(1, -1)\n",
        "    # Make prediction\n",
        "    prediction = model.predict(input_data_reshaped)\n",
        "    return prediction\n",
        "\n",
        "def convert_occurrence_to_array(occurrence, max_occurrence):\n",
        "    # Initialize an array to store the occurrence\n",
        "    occurrence_array = [0] * max_occurrence\n",
        "    # Convert the occurrence to an index\n",
        "    index = occurrence - 1\n",
        "    # Set the value at the index to 1 if within range\n",
        "    if 0 <= index < max_occurrence:\n",
        "        occurrence_array[index] = 1\n",
        "    return occurrence_array\n",
        "\n",
        "# Sample occurrences and number\n",
        "occurrences = 4\n",
        "weekday = 1\n",
        "defects_count = 69\n",
        "\n",
        "# Convert occurrences and number to input data\n",
        "input_data = convert_to_input_data(convert_occurrence_to_array(occurrences, 4), convert_occurrence_to_array(weekday, 5), defects_count)\n",
        "\n",
        "# Make prediction\n",
        "prediction = make_prediction(model, input_data)\n",
        "print(prediction)"
      ]
    },
    {
      "cell_type": "code",
      "execution_count": 26,
      "metadata": {
        "colab": {
          "base_uri": "https://localhost:8080/",
          "height": 560
        },
        "id": "amVvsrjodSAi",
        "outputId": "2fe9b2bf-b0ee-4a78-dfc6-3f9cfdc26349"
      },
      "outputs": [
        {
          "name": "stdout",
          "output_type": "stream",
          "text": [
            "[42.340944392252034, 27.859722522088706, 36.25955496788338, 64.44775833059727, 37.923994151842756, 58.35097273859589]\n"
          ]
        },
        {
          "data": {
            "application/vnd.plotly.v1+json": {
              "config": {
                "plotlyServerURL": "https://plot.ly"
              },
              "data": [
                {
                  "line": {
                    "color": "rgb(0, 0, 0)",
                    "width": 2
                  },
                  "marker": {
                    "color": "rgba(255, 182, 193, .9)",
                    "line": {
                      "color": "rgb(0, 0, 0)",
                      "width": 2
                    },
                    "size": 10
                  },
                  "mode": "markers+lines",
                  "type": "scatter",
                  "x": [
                    0,
                    1,
                    2,
                    3,
                    4,
                    5
                  ],
                  "y": [
                    42.340944392252034,
                    27.859722522088706,
                    36.25955496788338,
                    64.44775833059727,
                    37.923994151842756,
                    58.35097273859589
                  ]
                }
              ],
              "layout": {
                "template": {
                  "data": {
                    "bar": [
                      {
                        "error_x": {
                          "color": "#2a3f5f"
                        },
                        "error_y": {
                          "color": "#2a3f5f"
                        },
                        "marker": {
                          "line": {
                            "color": "#E5ECF6",
                            "width": 0.5
                          },
                          "pattern": {
                            "fillmode": "overlay",
                            "size": 10,
                            "solidity": 0.2
                          }
                        },
                        "type": "bar"
                      }
                    ],
                    "barpolar": [
                      {
                        "marker": {
                          "line": {
                            "color": "#E5ECF6",
                            "width": 0.5
                          },
                          "pattern": {
                            "fillmode": "overlay",
                            "size": 10,
                            "solidity": 0.2
                          }
                        },
                        "type": "barpolar"
                      }
                    ],
                    "carpet": [
                      {
                        "aaxis": {
                          "endlinecolor": "#2a3f5f",
                          "gridcolor": "white",
                          "linecolor": "white",
                          "minorgridcolor": "white",
                          "startlinecolor": "#2a3f5f"
                        },
                        "baxis": {
                          "endlinecolor": "#2a3f5f",
                          "gridcolor": "white",
                          "linecolor": "white",
                          "minorgridcolor": "white",
                          "startlinecolor": "#2a3f5f"
                        },
                        "type": "carpet"
                      }
                    ],
                    "choropleth": [
                      {
                        "colorbar": {
                          "outlinewidth": 0,
                          "ticks": ""
                        },
                        "type": "choropleth"
                      }
                    ],
                    "contour": [
                      {
                        "colorbar": {
                          "outlinewidth": 0,
                          "ticks": ""
                        },
                        "colorscale": [
                          [
                            0,
                            "#0d0887"
                          ],
                          [
                            0.1111111111111111,
                            "#46039f"
                          ],
                          [
                            0.2222222222222222,
                            "#7201a8"
                          ],
                          [
                            0.3333333333333333,
                            "#9c179e"
                          ],
                          [
                            0.4444444444444444,
                            "#bd3786"
                          ],
                          [
                            0.5555555555555556,
                            "#d8576b"
                          ],
                          [
                            0.6666666666666666,
                            "#ed7953"
                          ],
                          [
                            0.7777777777777778,
                            "#fb9f3a"
                          ],
                          [
                            0.8888888888888888,
                            "#fdca26"
                          ],
                          [
                            1,
                            "#f0f921"
                          ]
                        ],
                        "type": "contour"
                      }
                    ],
                    "contourcarpet": [
                      {
                        "colorbar": {
                          "outlinewidth": 0,
                          "ticks": ""
                        },
                        "type": "contourcarpet"
                      }
                    ],
                    "heatmap": [
                      {
                        "colorbar": {
                          "outlinewidth": 0,
                          "ticks": ""
                        },
                        "colorscale": [
                          [
                            0,
                            "#0d0887"
                          ],
                          [
                            0.1111111111111111,
                            "#46039f"
                          ],
                          [
                            0.2222222222222222,
                            "#7201a8"
                          ],
                          [
                            0.3333333333333333,
                            "#9c179e"
                          ],
                          [
                            0.4444444444444444,
                            "#bd3786"
                          ],
                          [
                            0.5555555555555556,
                            "#d8576b"
                          ],
                          [
                            0.6666666666666666,
                            "#ed7953"
                          ],
                          [
                            0.7777777777777778,
                            "#fb9f3a"
                          ],
                          [
                            0.8888888888888888,
                            "#fdca26"
                          ],
                          [
                            1,
                            "#f0f921"
                          ]
                        ],
                        "type": "heatmap"
                      }
                    ],
                    "heatmapgl": [
                      {
                        "colorbar": {
                          "outlinewidth": 0,
                          "ticks": ""
                        },
                        "colorscale": [
                          [
                            0,
                            "#0d0887"
                          ],
                          [
                            0.1111111111111111,
                            "#46039f"
                          ],
                          [
                            0.2222222222222222,
                            "#7201a8"
                          ],
                          [
                            0.3333333333333333,
                            "#9c179e"
                          ],
                          [
                            0.4444444444444444,
                            "#bd3786"
                          ],
                          [
                            0.5555555555555556,
                            "#d8576b"
                          ],
                          [
                            0.6666666666666666,
                            "#ed7953"
                          ],
                          [
                            0.7777777777777778,
                            "#fb9f3a"
                          ],
                          [
                            0.8888888888888888,
                            "#fdca26"
                          ],
                          [
                            1,
                            "#f0f921"
                          ]
                        ],
                        "type": "heatmapgl"
                      }
                    ],
                    "histogram": [
                      {
                        "marker": {
                          "pattern": {
                            "fillmode": "overlay",
                            "size": 10,
                            "solidity": 0.2
                          }
                        },
                        "type": "histogram"
                      }
                    ],
                    "histogram2d": [
                      {
                        "colorbar": {
                          "outlinewidth": 0,
                          "ticks": ""
                        },
                        "colorscale": [
                          [
                            0,
                            "#0d0887"
                          ],
                          [
                            0.1111111111111111,
                            "#46039f"
                          ],
                          [
                            0.2222222222222222,
                            "#7201a8"
                          ],
                          [
                            0.3333333333333333,
                            "#9c179e"
                          ],
                          [
                            0.4444444444444444,
                            "#bd3786"
                          ],
                          [
                            0.5555555555555556,
                            "#d8576b"
                          ],
                          [
                            0.6666666666666666,
                            "#ed7953"
                          ],
                          [
                            0.7777777777777778,
                            "#fb9f3a"
                          ],
                          [
                            0.8888888888888888,
                            "#fdca26"
                          ],
                          [
                            1,
                            "#f0f921"
                          ]
                        ],
                        "type": "histogram2d"
                      }
                    ],
                    "histogram2dcontour": [
                      {
                        "colorbar": {
                          "outlinewidth": 0,
                          "ticks": ""
                        },
                        "colorscale": [
                          [
                            0,
                            "#0d0887"
                          ],
                          [
                            0.1111111111111111,
                            "#46039f"
                          ],
                          [
                            0.2222222222222222,
                            "#7201a8"
                          ],
                          [
                            0.3333333333333333,
                            "#9c179e"
                          ],
                          [
                            0.4444444444444444,
                            "#bd3786"
                          ],
                          [
                            0.5555555555555556,
                            "#d8576b"
                          ],
                          [
                            0.6666666666666666,
                            "#ed7953"
                          ],
                          [
                            0.7777777777777778,
                            "#fb9f3a"
                          ],
                          [
                            0.8888888888888888,
                            "#fdca26"
                          ],
                          [
                            1,
                            "#f0f921"
                          ]
                        ],
                        "type": "histogram2dcontour"
                      }
                    ],
                    "mesh3d": [
                      {
                        "colorbar": {
                          "outlinewidth": 0,
                          "ticks": ""
                        },
                        "type": "mesh3d"
                      }
                    ],
                    "parcoords": [
                      {
                        "line": {
                          "colorbar": {
                            "outlinewidth": 0,
                            "ticks": ""
                          }
                        },
                        "type": "parcoords"
                      }
                    ],
                    "pie": [
                      {
                        "automargin": true,
                        "type": "pie"
                      }
                    ],
                    "scatter": [
                      {
                        "fillpattern": {
                          "fillmode": "overlay",
                          "size": 10,
                          "solidity": 0.2
                        },
                        "type": "scatter"
                      }
                    ],
                    "scatter3d": [
                      {
                        "line": {
                          "colorbar": {
                            "outlinewidth": 0,
                            "ticks": ""
                          }
                        },
                        "marker": {
                          "colorbar": {
                            "outlinewidth": 0,
                            "ticks": ""
                          }
                        },
                        "type": "scatter3d"
                      }
                    ],
                    "scattercarpet": [
                      {
                        "marker": {
                          "colorbar": {
                            "outlinewidth": 0,
                            "ticks": ""
                          }
                        },
                        "type": "scattercarpet"
                      }
                    ],
                    "scattergeo": [
                      {
                        "marker": {
                          "colorbar": {
                            "outlinewidth": 0,
                            "ticks": ""
                          }
                        },
                        "type": "scattergeo"
                      }
                    ],
                    "scattergl": [
                      {
                        "marker": {
                          "colorbar": {
                            "outlinewidth": 0,
                            "ticks": ""
                          }
                        },
                        "type": "scattergl"
                      }
                    ],
                    "scattermapbox": [
                      {
                        "marker": {
                          "colorbar": {
                            "outlinewidth": 0,
                            "ticks": ""
                          }
                        },
                        "type": "scattermapbox"
                      }
                    ],
                    "scatterpolar": [
                      {
                        "marker": {
                          "colorbar": {
                            "outlinewidth": 0,
                            "ticks": ""
                          }
                        },
                        "type": "scatterpolar"
                      }
                    ],
                    "scatterpolargl": [
                      {
                        "marker": {
                          "colorbar": {
                            "outlinewidth": 0,
                            "ticks": ""
                          }
                        },
                        "type": "scatterpolargl"
                      }
                    ],
                    "scatterternary": [
                      {
                        "marker": {
                          "colorbar": {
                            "outlinewidth": 0,
                            "ticks": ""
                          }
                        },
                        "type": "scatterternary"
                      }
                    ],
                    "surface": [
                      {
                        "colorbar": {
                          "outlinewidth": 0,
                          "ticks": ""
                        },
                        "colorscale": [
                          [
                            0,
                            "#0d0887"
                          ],
                          [
                            0.1111111111111111,
                            "#46039f"
                          ],
                          [
                            0.2222222222222222,
                            "#7201a8"
                          ],
                          [
                            0.3333333333333333,
                            "#9c179e"
                          ],
                          [
                            0.4444444444444444,
                            "#bd3786"
                          ],
                          [
                            0.5555555555555556,
                            "#d8576b"
                          ],
                          [
                            0.6666666666666666,
                            "#ed7953"
                          ],
                          [
                            0.7777777777777778,
                            "#fb9f3a"
                          ],
                          [
                            0.8888888888888888,
                            "#fdca26"
                          ],
                          [
                            1,
                            "#f0f921"
                          ]
                        ],
                        "type": "surface"
                      }
                    ],
                    "table": [
                      {
                        "cells": {
                          "fill": {
                            "color": "#EBF0F8"
                          },
                          "line": {
                            "color": "white"
                          }
                        },
                        "header": {
                          "fill": {
                            "color": "#C8D4E3"
                          },
                          "line": {
                            "color": "white"
                          }
                        },
                        "type": "table"
                      }
                    ]
                  },
                  "layout": {
                    "annotationdefaults": {
                      "arrowcolor": "#2a3f5f",
                      "arrowhead": 0,
                      "arrowwidth": 1
                    },
                    "autotypenumbers": "strict",
                    "coloraxis": {
                      "colorbar": {
                        "outlinewidth": 0,
                        "ticks": ""
                      }
                    },
                    "colorscale": {
                      "diverging": [
                        [
                          0,
                          "#8e0152"
                        ],
                        [
                          0.1,
                          "#c51b7d"
                        ],
                        [
                          0.2,
                          "#de77ae"
                        ],
                        [
                          0.3,
                          "#f1b6da"
                        ],
                        [
                          0.4,
                          "#fde0ef"
                        ],
                        [
                          0.5,
                          "#f7f7f7"
                        ],
                        [
                          0.6,
                          "#e6f5d0"
                        ],
                        [
                          0.7,
                          "#b8e186"
                        ],
                        [
                          0.8,
                          "#7fbc41"
                        ],
                        [
                          0.9,
                          "#4d9221"
                        ],
                        [
                          1,
                          "#276419"
                        ]
                      ],
                      "sequential": [
                        [
                          0,
                          "#0d0887"
                        ],
                        [
                          0.1111111111111111,
                          "#46039f"
                        ],
                        [
                          0.2222222222222222,
                          "#7201a8"
                        ],
                        [
                          0.3333333333333333,
                          "#9c179e"
                        ],
                        [
                          0.4444444444444444,
                          "#bd3786"
                        ],
                        [
                          0.5555555555555556,
                          "#d8576b"
                        ],
                        [
                          0.6666666666666666,
                          "#ed7953"
                        ],
                        [
                          0.7777777777777778,
                          "#fb9f3a"
                        ],
                        [
                          0.8888888888888888,
                          "#fdca26"
                        ],
                        [
                          1,
                          "#f0f921"
                        ]
                      ],
                      "sequentialminus": [
                        [
                          0,
                          "#0d0887"
                        ],
                        [
                          0.1111111111111111,
                          "#46039f"
                        ],
                        [
                          0.2222222222222222,
                          "#7201a8"
                        ],
                        [
                          0.3333333333333333,
                          "#9c179e"
                        ],
                        [
                          0.4444444444444444,
                          "#bd3786"
                        ],
                        [
                          0.5555555555555556,
                          "#d8576b"
                        ],
                        [
                          0.6666666666666666,
                          "#ed7953"
                        ],
                        [
                          0.7777777777777778,
                          "#fb9f3a"
                        ],
                        [
                          0.8888888888888888,
                          "#fdca26"
                        ],
                        [
                          1,
                          "#f0f921"
                        ]
                      ]
                    },
                    "colorway": [
                      "#636efa",
                      "#EF553B",
                      "#00cc96",
                      "#ab63fa",
                      "#FFA15A",
                      "#19d3f3",
                      "#FF6692",
                      "#B6E880",
                      "#FF97FF",
                      "#FECB52"
                    ],
                    "font": {
                      "color": "#2a3f5f"
                    },
                    "geo": {
                      "bgcolor": "white",
                      "lakecolor": "white",
                      "landcolor": "#E5ECF6",
                      "showlakes": true,
                      "showland": true,
                      "subunitcolor": "white"
                    },
                    "hoverlabel": {
                      "align": "left"
                    },
                    "hovermode": "closest",
                    "mapbox": {
                      "style": "light"
                    },
                    "paper_bgcolor": "white",
                    "plot_bgcolor": "#E5ECF6",
                    "polar": {
                      "angularaxis": {
                        "gridcolor": "white",
                        "linecolor": "white",
                        "ticks": ""
                      },
                      "bgcolor": "#E5ECF6",
                      "radialaxis": {
                        "gridcolor": "white",
                        "linecolor": "white",
                        "ticks": ""
                      }
                    },
                    "scene": {
                      "xaxis": {
                        "backgroundcolor": "#E5ECF6",
                        "gridcolor": "white",
                        "gridwidth": 2,
                        "linecolor": "white",
                        "showbackground": true,
                        "ticks": "",
                        "zerolinecolor": "white"
                      },
                      "yaxis": {
                        "backgroundcolor": "#E5ECF6",
                        "gridcolor": "white",
                        "gridwidth": 2,
                        "linecolor": "white",
                        "showbackground": true,
                        "ticks": "",
                        "zerolinecolor": "white"
                      },
                      "zaxis": {
                        "backgroundcolor": "#E5ECF6",
                        "gridcolor": "white",
                        "gridwidth": 2,
                        "linecolor": "white",
                        "showbackground": true,
                        "ticks": "",
                        "zerolinecolor": "white"
                      }
                    },
                    "shapedefaults": {
                      "line": {
                        "color": "#2a3f5f"
                      }
                    },
                    "ternary": {
                      "aaxis": {
                        "gridcolor": "white",
                        "linecolor": "white",
                        "ticks": ""
                      },
                      "baxis": {
                        "gridcolor": "white",
                        "linecolor": "white",
                        "ticks": ""
                      },
                      "bgcolor": "#E5ECF6",
                      "caxis": {
                        "gridcolor": "white",
                        "linecolor": "white",
                        "ticks": ""
                      }
                    },
                    "title": {
                      "x": 0.05
                    },
                    "xaxis": {
                      "automargin": true,
                      "gridcolor": "white",
                      "linecolor": "white",
                      "ticks": "",
                      "title": {
                        "standoff": 15
                      },
                      "zerolinecolor": "white",
                      "zerolinewidth": 2
                    },
                    "yaxis": {
                      "automargin": true,
                      "gridcolor": "white",
                      "linecolor": "white",
                      "ticks": "",
                      "title": {
                        "standoff": 15
                      },
                      "zerolinecolor": "white",
                      "zerolinewidth": 2
                    }
                  }
                },
                "title": {
                  "text": "Predictions vs. Weekday"
                },
                "xaxis": {
                  "range": [
                    0,
                    5
                  ],
                  "ticktext": [
                    "Monday",
                    "Tuesday",
                    "Wednesday",
                    "Thursday",
                    "Friday",
                    "Saturday"
                  ],
                  "tickvals": [
                    0,
                    1,
                    2,
                    3,
                    4,
                    5
                  ],
                  "title": {
                    "text": "Weekday"
                  }
                },
                "yaxis": {
                  "title": {
                    "text": "Prediction Value"
                  }
                }
              }
            }
          },
          "metadata": {},
          "output_type": "display_data"
        }
      ],
      "source": [
        "import plotly.graph_objs as go\n",
        "\n",
        "occurrences = 3\n",
        "defects_count = 69\n",
        "predictions = []\n",
        "\n",
        "for weekday in range(6):\n",
        "    input_data = convert_to_input_data(convert_occurrence_to_array(occurrences, 4), convert_occurrence_to_array(weekday, 5), defects_count)\n",
        "    prediction = make_prediction(model, input_data)\n",
        "    predictions.append(prediction[0])  # Flatten the predictions list\n",
        "\n",
        "print(predictions)\n",
        "\n",
        "# Create traces\n",
        "trace = go.Scatter(\n",
        "    x=list(range(6)),\n",
        "    y=predictions,\n",
        "    mode='markers+lines',\n",
        "    marker=dict(\n",
        "        size=10,\n",
        "        color='rgba(255, 182, 193, .9)',\n",
        "        line=dict(width=2, color='rgb(0, 0, 0)')\n",
        "    ),\n",
        "    line=dict(\n",
        "        color='rgb(0, 0, 0)',\n",
        "        width=2\n",
        "    )\n",
        ")\n",
        "\n",
        "data = [trace]\n",
        "\n",
        "# Create layout\n",
        "layout = go.Layout(\n",
        "    title='Predictions vs. Weekday',\n",
        "    xaxis=dict(\n",
        "        title='Weekday',\n",
        "        tickvals=list(range(6)),\n",
        "        ticktext=['Monday', 'Tuesday', 'Wednesday', 'Thursday', 'Friday', 'Saturday'],\n",
        "        range=[0, 5]  # Restrict x-axis scale between values 2 and 4\n",
        "    ),\n",
        "    yaxis=dict(\n",
        "        title='Prediction Value',\n",
        "    )\n",
        ")\n",
        "\n",
        "# Create figure\n",
        "fig = go.Figure(data=data, layout=layout)\n",
        "\n",
        "# Plot the figure\n",
        "fig.show()\n"
      ]
    }
  ],
  "metadata": {
    "colab": {
      "provenance": []
    },
    "kernelspec": {
      "display_name": "Python 3",
      "name": "python3"
    },
    "language_info": {
      "codemirror_mode": {
        "name": "ipython",
        "version": 3
      },
      "file_extension": ".py",
      "mimetype": "text/x-python",
      "name": "python",
      "nbconvert_exporter": "python",
      "pygments_lexer": "ipython3",
      "version": "3.12.2"
    }
  },
  "nbformat": 4,
  "nbformat_minor": 0
}
