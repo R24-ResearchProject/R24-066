{
 "cells": [
  {
   "cell_type": "code",
   "execution_count": 7,
   "metadata": {},
   "outputs": [
    {
     "name": "stdout",
     "output_type": "stream",
     "text": [
      "Fusion Model Mean Squared Error for Run_Off: 5.292562991796079\n",
      "Fusion Model Mean Squared Error for Open_Seam: 3.0785639742247186\n",
      "Fusion Model Mean Squared Error for SPI_Errors: 4.98624927690371\n",
      "Fusion Model Mean Squared Error for High_Low: 5.542851679266722\n",
      "Fusion Model Overall Mean Squared Error: 4.725056980547807\n"
     ]
    },
    {
     "name": "stderr",
     "output_type": "stream",
     "text": [
      "/var/folders/68/8_7nlx1973v1qqcz0zq5wt8m0000gn/T/ipykernel_52037/3650780954.py:23: UserWarning: Could not infer format, so each element will be parsed individually, falling back to `dateutil`. To ensure parsing is consistent and as-expected, please specify a format.\n",
      "  demographic_data['Joining_Date'] = pd.to_datetime(demographic_data['Joining_Date'])\n",
      "/var/folders/68/8_7nlx1973v1qqcz0zq5wt8m0000gn/T/ipykernel_52037/3650780954.py:24: UserWarning: Could not infer format, so each element will be parsed individually, falling back to `dateutil`. To ensure parsing is consistent and as-expected, please specify a format.\n",
      "  defect_data['Date'] = pd.to_datetime(defect_data['Date'])\n"
     ]
    },
    {
     "data": {
      "text/plain": [
       "['/Users/minu/Desktop/R24-066/Component 04/Backend/Save_model/fusion_model.pkl']"
      ]
     },
     "execution_count": 7,
     "metadata": {},
     "output_type": "execute_result"
    }
   ],
   "source": [
    "import pandas as pd\n",
    "import numpy as np\n",
    "from sklearn.model_selection import train_test_split\n",
    "from sklearn.multioutput import MultiOutputRegressor\n",
    "from sklearn.ensemble import GradientBoostingRegressor\n",
    "from sklearn.metrics import mean_squared_error\n",
    "import joblib\n",
    "import os\n",
    "\n",
    "# Paths to the saved models and forecasts\n",
    "time_series_forecasts_path = '/Users/minu/Desktop/R24-066/Component 04/Backend/Dataset/worker_forecasts_dataset/time_series_forecasts.csv'\n",
    "traditional_model_path = '/Users/minu/Desktop/R24-066/Component 04/Backend/Save_model/best_traditional_model.pkl'\n",
    "\n",
    "# Load the saved forecasts\n",
    "time_series_forecasts = pd.read_csv(time_series_forecasts_path, index_col=0)\n",
    "traditional_model = joblib.load(traditional_model_path)\n",
    "\n",
    "# Load the original combined data\n",
    "demographic_data = pd.read_csv('/Users/minu/Desktop/R24-066/Component 04/Backend/Dataset/demographic_data_dataset.csv') \n",
    "defect_data = pd.read_csv('/Users/minu/Desktop/R24-066/Component 04/Backend/Dataset/updated_worker_defect_details.csv')\n",
    "\n",
    "# Convert Date columns to datetime\n",
    "demographic_data['Joining_Date'] = pd.to_datetime(demographic_data['Joining_Date'])\n",
    "defect_data['Date'] = pd.to_datetime(defect_data['Date'])\n",
    "\n",
    "# Combine datasets on Worker_ID\n",
    "combined_data = pd.merge(defect_data, demographic_data, on='Worker_ID')\n",
    "\n",
    "# Drop unnecessary columns\n",
    "fields_to_drop = ['Name', 'Joining_Date']\n",
    "combined_data.drop(columns=fields_to_drop, inplace=True)\n",
    "\n",
    "# Rename defect columns\n",
    "defect_columns_mapping = {\n",
    "    'Run_Off_D1': 'Run_Off',\n",
    "    'Open_Seam_D2': 'Open_Seam',\n",
    "    'SPI_Errors_D3': 'SPI_Errors',\n",
    "    'High_Low_D4': 'High_Low'\n",
    "}\n",
    "combined_data.rename(columns=defect_columns_mapping, inplace=True)\n",
    "\n",
    "# Prepare the data for the fusion model\n",
    "def prepare_fusion_data(time_series_forecasts, traditional_model, combined_data, defect_types):\n",
    "    # Generate traditional model predictions\n",
    "    X_combined = combined_data.drop(columns=['Run_Off', 'Open_Seam', 'SPI_Errors', 'High_Low', 'defect_count', 'count', 'Worker_ID', 'Date'])\n",
    "    traditional_predictions = traditional_model.predict(X_combined)\n",
    "    \n",
    "    # Create a DataFrame for traditional predictions\n",
    "    traditional_predictions_df = pd.DataFrame(traditional_predictions, columns=defect_types, index=combined_data.index)\n",
    "    \n",
    "    # Combine traditional and time series predictions\n",
    "    combined_forecasts = time_series_forecasts.add(traditional_predictions_df, fill_value=0)\n",
    "    \n",
    "    return combined_forecasts\n",
    "\n",
    "# Prepare the fusion data\n",
    "defect_types = ['Run_Off', 'Open_Seam', 'SPI_Errors', 'High_Low']\n",
    "combined_forecasts = prepare_fusion_data(time_series_forecasts, traditional_model, combined_data, defect_types)\n",
    "\n",
    "# Extract target values\n",
    "y_actual = combined_data[defect_types]\n",
    "\n",
    "# Align combined forecasts with y_actual\n",
    "combined_forecasts = combined_forecasts.loc[y_actual.index]\n",
    "\n",
    "# Train the fusion model using MultiOutputRegressor with Gradient Boosting Regressor\n",
    "X_train, X_test, y_train, y_test = train_test_split(combined_forecasts, y_actual, test_size=0.2, random_state=42)\n",
    "fusion_model = MultiOutputRegressor(GradientBoostingRegressor(random_state=42))\n",
    "fusion_model.fit(X_train, y_train)\n",
    "\n",
    "# Evaluate the fusion model\n",
    "y_pred = fusion_model.predict(X_test)\n",
    "mse_values = mean_squared_error(y_test, y_pred, multioutput='raw_values')\n",
    "for defect_type, mse in zip(defect_types, mse_values):\n",
    "    print(f\"Fusion Model Mean Squared Error for {defect_type}: {mse}\")\n",
    "\n",
    "# Overall MSE\n",
    "overall_mse = mean_squared_error(y_test, y_pred)\n",
    "print(f\"Fusion Model Overall Mean Squared Error: {overall_mse}\")\n",
    "\n",
    "# Save the fusion model\n",
    "fusion_model_output_path = '/Users/minu/Desktop/R24-066/Component 04/Backend/Save_model/fusion_model.pkl'\n",
    "joblib.dump(fusion_model, fusion_model_output_path)"
   ]
  },
  {
   "cell_type": "code",
   "execution_count": null,
   "metadata": {},
   "outputs": [],
   "source": []
  },
  {
   "cell_type": "code",
   "execution_count": null,
   "metadata": {},
   "outputs": [],
   "source": []
  },
  {
   "cell_type": "code",
   "execution_count": null,
   "metadata": {},
   "outputs": [],
   "source": []
  },
  {
   "cell_type": "code",
   "execution_count": null,
   "metadata": {},
   "outputs": [],
   "source": []
  },
  {
   "cell_type": "code",
   "execution_count": null,
   "metadata": {},
   "outputs": [],
   "source": []
  },
  {
   "cell_type": "code",
   "execution_count": null,
   "metadata": {},
   "outputs": [],
   "source": []
  },
  {
   "cell_type": "code",
   "execution_count": null,
   "metadata": {},
   "outputs": [],
   "source": []
  },
  {
   "cell_type": "code",
   "execution_count": null,
   "metadata": {},
   "outputs": [],
   "source": []
  }
 ],
 "metadata": {
  "kernelspec": {
   "display_name": "Python 3",
   "language": "python",
   "name": "python3"
  },
  "language_info": {
   "codemirror_mode": {
    "name": "ipython",
    "version": 3
   },
   "file_extension": ".py",
   "mimetype": "text/x-python",
   "name": "python",
   "nbconvert_exporter": "python",
   "pygments_lexer": "ipython3",
   "version": "3.12.4"
  }
 },
 "nbformat": 4,
 "nbformat_minor": 2
}
