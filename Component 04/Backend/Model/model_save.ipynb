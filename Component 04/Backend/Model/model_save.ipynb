{
 "cells": [
  {
   "cell_type": "code",
   "execution_count": 6,
   "metadata": {},
   "outputs": [
    {
     "name": "stderr",
     "output_type": "stream",
     "text": [
      "/var/folders/68/8_7nlx1973v1qqcz0zq5wt8m0000gn/T/ipykernel_32824/2514792921.py:22: UserWarning: Could not infer format, so each element will be parsed individually, falling back to `dateutil`. To ensure parsing is consistent and as-expected, please specify a format.\n",
      "  combined_data['Date'] = pd.to_datetime(combined_data['Date'])\n",
      "/var/folders/68/8_7nlx1973v1qqcz0zq5wt8m0000gn/T/ipykernel_32824/2514792921.py:23: UserWarning: Could not infer format, so each element will be parsed individually, falling back to `dateutil`. To ensure parsing is consistent and as-expected, please specify a format.\n",
      "  combined_data['Joining_Date'] = pd.to_datetime(combined_data['Joining_Date'])\n"
     ]
    },
    {
     "name": "stdout",
     "output_type": "stream",
     "text": [
      "RandomForest: Mean CV MSE = 6.913667452380953\n",
      "GradientBoosting: Mean CV MSE = 7.518078092328734\n",
      "LinearRegression: Mean CV MSE = 4.972604323072917\n",
      "SupportVector: Mean CV MSE = 5.422002784556483\n",
      "\n",
      "Best model: LinearRegression with Mean CV MSE = 4.972604323072917\n",
      "\n"
     ]
    },
    {
     "data": {
      "text/plain": [
       "['best_model_pipeline.pkl']"
      ]
     },
     "execution_count": 6,
     "metadata": {},
     "output_type": "execute_result"
    }
   ],
   "source": [
    "import numpy as np\n",
    "import pandas as pd\n",
    "import joblib\n",
    "from sklearn.model_selection import train_test_split, cross_val_score\n",
    "from sklearn.ensemble import RandomForestRegressor, GradientBoostingRegressor\n",
    "from sklearn.linear_model import LinearRegression\n",
    "from sklearn.svm import SVR\n",
    "from sklearn.pipeline import Pipeline\n",
    "from sklearn.compose import ColumnTransformer\n",
    "from sklearn.preprocessing import OneHotEncoder, StandardScaler\n",
    "from sklearn.multioutput import MultiOutputRegressor\n",
    "from sklearn.metrics import mean_squared_error\n",
    "\n",
    "# Read the data\n",
    "demographic_data = pd.read_csv('/Users/minu/Desktop/test_heroku/Component 04/Backend/Dataset/demographic_data_dataset.csv')  # Update path\n",
    "defect_data = pd.read_csv('/Users/minu/Desktop/test_heroku/Component 04/Backend/Dataset/updated_worker_defect_details.csv')  # Update path\n",
    "\n",
    "# Combine datasets on Worker_ID\n",
    "combined_data = pd.merge(defect_data, demographic_data, on='Worker_ID')\n",
    "\n",
    "# Convert Date columns to datetime\n",
    "combined_data['Date'] = pd.to_datetime(combined_data['Date'])\n",
    "combined_data['Joining_Date'] = pd.to_datetime(combined_data['Joining_Date'])\n",
    "\n",
    "# Calculate experience in days\n",
    "combined_data['Experience'] = (combined_data['Date'] - combined_data['Joining_Date']).dt.days\n",
    "\n",
    "# Drop unnecessary columns\n",
    "fields_to_drop = ['Name', 'Joining_Date']\n",
    "combined_data.drop(columns=fields_to_drop, inplace=True)\n",
    "\n",
    "# Define categorical and numerical features for one-hot encoding and scaling\n",
    "categorical_features = ['Gender', 'Skill_Level', 'Shift']\n",
    "numerical_features = ['Age', 'Production_Volume', 'Experience']\n",
    "\n",
    "# Ensure that all columns are present\n",
    "missing_columns = [col for col in categorical_features + numerical_features if col not in combined_data.columns]\n",
    "if missing_columns:\n",
    "    raise ValueError(f\"The following columns are missing in the combined dataset: {missing_columns}\")\n",
    "\n",
    "# Define preprocessing steps\n",
    "preprocessor = ColumnTransformer(\n",
    "    transformers=[\n",
    "        ('onehot', OneHotEncoder(), categorical_features),\n",
    "        ('num', StandardScaler(), numerical_features)\n",
    "    ]\n",
    ")\n",
    "\n",
    "# Separate features and target variables\n",
    "X = combined_data.drop(columns=['Run_Off_D1', 'Open_Seam_D2', 'SPI_Errors_D3', 'High_Low_D4', 'defect_count', 'count', 'Worker_ID', 'Date'])\n",
    "y = combined_data[['Run_Off_D1', 'Open_Seam_D2', 'SPI_Errors_D3', 'High_Low_D4']]\n",
    "\n",
    "# Split data into train and test sets\n",
    "X_train, X_test, y_train, y_test = train_test_split(X, y, test_size=0.2, random_state=42)\n",
    "\n",
    "# Define multiple models\n",
    "models = {\n",
    "    'RandomForest': MultiOutputRegressor(RandomForestRegressor(n_estimators=100, random_state=42)),\n",
    "    'GradientBoosting': MultiOutputRegressor(GradientBoostingRegressor(random_state=42)),\n",
    "    'LinearRegression': MultiOutputRegressor(LinearRegression()),\n",
    "    'SupportVector': MultiOutputRegressor(SVR())\n",
    "}\n",
    "\n",
    "# Evaluate each model using cross-validation\n",
    "results = {}\n",
    "for model_name, model in models.items():\n",
    "    pipeline = Pipeline(steps=[\n",
    "        ('preprocessor', preprocessor),\n",
    "        ('regressor', model)\n",
    "    ])\n",
    "    cv_scores = cross_val_score(pipeline, X_train, y_train, cv=5, scoring='neg_mean_squared_error')\n",
    "    results[model_name] = -cv_scores.mean()\n",
    "    print(f\"{model_name}: Mean CV MSE = {-cv_scores.mean()}\")\n",
    "print()\n",
    "\n",
    "# Select the best model\n",
    "best_model_name = min(results, key=results.get)\n",
    "best_model = models[best_model_name]\n",
    "\n",
    "print(f\"Best model: {best_model_name} with Mean CV MSE = {results[best_model_name]}\")\n",
    "print()\n",
    "\n",
    "# Train the best model on the full training data\n",
    "pipeline = Pipeline(steps=[\n",
    "    ('preprocessor', preprocessor),\n",
    "    ('regressor', best_model)\n",
    "])\n",
    "pipeline.fit(X_train, y_train)\n",
    "\n",
    "# Save the trained pipeline\n",
    "joblib.dump(pipeline, 'best_model_pipeline.pkl')\n"
   ]
  },
  {
   "cell_type": "code",
   "execution_count": 3,
   "metadata": {},
   "outputs": [
    {
     "name": "stdout",
     "output_type": "stream",
     "text": [
      "[[-26.13274526  16.55810667  19.56325248   4.35137448]]\n"
     ]
    }
   ],
   "source": [
    "import joblib\n",
    "import pandas as pd\n",
    "\n",
    "# Load the saved model\n",
    "model_pipeline = joblib.load('/Users/minu/Desktop/test_heroku/Component 04/Backend/best_model_pipeline.pkl')\n",
    "\n",
    "def predict(data):\n",
    "    # Convert data to DataFrame\n",
    "    data_df = pd.DataFrame(data)\n",
    "    # Predict using the loaded model\n",
    "    predictions = model_pipeline.predict(data_df)\n",
    "    return predictions\n",
    "\n",
    "# Example data for prediction\n",
    "example_data = {\n",
    "    'Gender': ['Female'],\n",
    "    'Skill_Level': ['Beginer'],\n",
    "    'Shift': ['Morning'],\n",
    "    'Age': [30],\n",
    "    'Production_Volume': [1000],\n",
    "    'Experience': [256]\n",
    "}\n",
    "\n",
    "# Make predictions\n",
    "preds = predict(example_data)\n",
    "print(preds)"
   ]
  },
  {
   "cell_type": "code",
   "execution_count": null,
   "metadata": {},
   "outputs": [],
   "source": []
  },
  {
   "cell_type": "code",
   "execution_count": null,
   "metadata": {},
   "outputs": [],
   "source": []
  },
  {
   "cell_type": "code",
   "execution_count": null,
   "metadata": {},
   "outputs": [],
   "source": []
  },
  {
   "cell_type": "code",
   "execution_count": null,
   "metadata": {},
   "outputs": [],
   "source": []
  },
  {
   "cell_type": "code",
   "execution_count": null,
   "metadata": {},
   "outputs": [],
   "source": []
  },
  {
   "cell_type": "code",
   "execution_count": null,
   "metadata": {},
   "outputs": [],
   "source": []
  },
  {
   "cell_type": "code",
   "execution_count": null,
   "metadata": {},
   "outputs": [],
   "source": []
  }
 ],
 "metadata": {
  "kernelspec": {
   "display_name": "Python 3",
   "language": "python",
   "name": "python3"
  },
  "language_info": {
   "codemirror_mode": {
    "name": "ipython",
    "version": 3
   },
   "file_extension": ".py",
   "mimetype": "text/x-python",
   "name": "python",
   "nbconvert_exporter": "python",
   "pygments_lexer": "ipython3",
   "version": "3.12.4"
  }
 },
 "nbformat": 4,
 "nbformat_minor": 2
}
