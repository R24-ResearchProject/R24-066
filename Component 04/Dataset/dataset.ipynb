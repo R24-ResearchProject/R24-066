{
 "cells": [
  {
   "cell_type": "code",
   "execution_count": 1,
   "metadata": {},
   "outputs": [
    {
     "name": "stdout",
     "output_type": "stream",
     "text": [
      "    Worker_ID       Date  Run_Off  Open_Seam  SPI_Errors  High_Low  \\\n",
      "0     W_00001 2024-01-01        5          6           3         3   \n",
      "1     W_00001 2024-01-02        5          5           4         6   \n",
      "2     W_00001 2024-01-03        0          6           2         1   \n",
      "3     W_00001 2024-01-04        5          5           1         4   \n",
      "4     W_00001 2024-01-05        3          5           1         3   \n",
      "..        ...        ...      ...        ...         ...       ...   \n",
      "153   W_00010 2024-08-01        2          6           2         3   \n",
      "154   W_00010 2024-08-02        3          6           2         3   \n",
      "155   W_00010 2024-08-05        5          1           6         5   \n",
      "156   W_00010 2024-08-06        4          2           5         5   \n",
      "157   W_00010 2024-08-07        2          6           0         1   \n",
      "\n",
      "     Production_Volume    Shift  defect_count  count  \n",
      "0                  600  Morning            17    583  \n",
      "1                  600  Morning            20    580  \n",
      "2                  600  Morning             9    591  \n",
      "3                  600  Morning            15    585  \n",
      "4                  600  Morning            12    588  \n",
      "..                 ...      ...           ...    ...  \n",
      "153                600  Morning            13    587  \n",
      "154                600  Morning            14    586  \n",
      "155                600  Morning            17    583  \n",
      "156                600  Morning            16    584  \n",
      "157                600  Morning             9    591  \n",
      "\n",
      "[1580 rows x 10 columns]\n"
     ]
    }
   ],
   "source": [
    "import pandas as pd\n",
    "import numpy as np\n",
    "from datetime import datetime, timedelta\n",
    "\n",
    "# Generate a date range for weekdays only\n",
    "start_date = datetime.strptime('1/1/24', '%m/%d/%y')\n",
    "end_date = datetime.strptime('8/7/24', '%m/%d/%y')\n",
    "\n",
    "# Create a date range excluding weekends\n",
    "date_range = pd.date_range(start=start_date, end=end_date, freq='B')\n",
    "\n",
    "# Initialize an empty DataFrame to hold the data for all workers\n",
    "all_data = pd.DataFrame()\n",
    "\n",
    "# Function to generate worker data\n",
    "def generate_worker_data(worker_id):\n",
    "    data = {\n",
    "        'Worker_ID': [worker_id] * len(date_range),\n",
    "        'Date': date_range,\n",
    "        'Run_Off': np.random.randint(0, 7, size=len(date_range)),\n",
    "        'Open_Seam': np.random.randint(0, 7, size=len(date_range)),\n",
    "        'SPI_Errors': np.random.randint(0, 7, size=len(date_range)),\n",
    "        'High_Low': np.random.randint(0, 7, size=len(date_range)),\n",
    "        'Production_Volume': [600] * len(date_range),\n",
    "        'Shift': ['Morning'] * len(date_range),\n",
    "    }\n",
    "    df = pd.DataFrame(data)\n",
    "    df['defect_count'] = df[['Run_Off', 'Open_Seam', 'SPI_Errors', 'High_Low']].sum(axis=1)\n",
    "    df['count'] = df['Production_Volume'] - df['defect_count']\n",
    "    return df\n",
    "\n",
    "# Generate data for workers W_00001 to W_00010\n",
    "for worker_num in range(1, 11):\n",
    "    worker_id = f'W_000{worker_num:02d}'\n",
    "    worker_data = generate_worker_data(worker_id)\n",
    "    all_data = pd.concat([all_data, worker_data])\n",
    "\n",
    "# Display the DataFrame\n",
    "print(all_data)\n",
    "\n",
    "# Save the DataFrame to a CSV file\n",
    "all_data.to_csv('worker_defect_production_data.csv', index=False)\n"
   ]
  },
  {
   "cell_type": "code",
   "execution_count": null,
   "metadata": {},
   "outputs": [],
   "source": []
  },
  {
   "cell_type": "code",
   "execution_count": null,
   "metadata": {},
   "outputs": [],
   "source": []
  },
  {
   "cell_type": "code",
   "execution_count": null,
   "metadata": {},
   "outputs": [],
   "source": []
  }
 ],
 "metadata": {
  "kernelspec": {
   "display_name": "Python 3",
   "language": "python",
   "name": "python3"
  },
  "language_info": {
   "codemirror_mode": {
    "name": "ipython",
    "version": 3
   },
   "file_extension": ".py",
   "mimetype": "text/x-python",
   "name": "python",
   "nbconvert_exporter": "python",
   "pygments_lexer": "ipython3",
   "version": "3.12.4"
  }
 },
 "nbformat": 4,
 "nbformat_minor": 2
}
