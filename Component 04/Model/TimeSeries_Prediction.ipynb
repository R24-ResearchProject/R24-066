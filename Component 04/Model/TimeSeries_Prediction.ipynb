{
  "cells": [
    {
      "cell_type": "code",
      "execution_count": 1,
      "metadata": {
        "id": "p7aJy6GH6_cR"
      },
      "outputs": [],
      "source": [
        "import numpy as np\n",
        "import pandas as pd\n",
        "from sklearn.model_selection import train_test_split\n",
        "from sklearn.linear_model import LogisticRegression\n",
        "from sklearn.metrics import accuracy_score"
      ]
    },
    {
      "cell_type": "code",
      "execution_count": 3,
      "metadata": {
        "id": "H80HzUdX7ydW"
      },
      "outputs": [],
      "source": [
        "exp_data = pd.read_csv('C:\\\\Users\\\\user\\\\Desktop\\\\R24-066\\\\Component 04\\\\Dataset\\\\demographic_data_update_02.csv')\n",
        "exp_data2 = pd.read_csv('C:\\\\Users\\\\user\\\\Desktop\\\\R24-066\\\\Component 04\\\\Dataset\\\\demographic_data_update_03.csv')"
      ]
    },
    {
      "cell_type": "code",
      "execution_count": 4,
      "metadata": {
        "colab": {
          "base_uri": "https://localhost:8080/",
          "height": 206
        },
        "id": "ljGHhDMz73Vq",
        "outputId": "2d267c4c-b76f-43ae-b71c-418ccbbc55d5"
      },
      "outputs": [
        {
          "data": {
            "text/html": [
              "<div>\n",
              "<style scoped>\n",
              "    .dataframe tbody tr th:only-of-type {\n",
              "        vertical-align: middle;\n",
              "    }\n",
              "\n",
              "    .dataframe tbody tr th {\n",
              "        vertical-align: top;\n",
              "    }\n",
              "\n",
              "    .dataframe thead th {\n",
              "        text-align: right;\n",
              "    }\n",
              "</style>\n",
              "<table border=\"1\" class=\"dataframe\">\n",
              "  <thead>\n",
              "    <tr style=\"text-align: right;\">\n",
              "      <th></th>\n",
              "      <th>ID</th>\n",
              "      <th>Name</th>\n",
              "      <th>Joining Date</th>\n",
              "      <th>Age</th>\n",
              "      <th>Birth Date</th>\n",
              "      <th>Gender</th>\n",
              "      <th>Education</th>\n",
              "      <th>Average Working Hours</th>\n",
              "      <th>Skill Level</th>\n",
              "      <th>Defect Type</th>\n",
              "      <th>Defect Rate</th>\n",
              "    </tr>\n",
              "  </thead>\n",
              "  <tbody>\n",
              "    <tr>\n",
              "      <th>0</th>\n",
              "      <td>53333</td>\n",
              "      <td>Eric Carr</td>\n",
              "      <td>2023-12-14</td>\n",
              "      <td>25</td>\n",
              "      <td>1999-04-24</td>\n",
              "      <td>Female</td>\n",
              "      <td>Diploma</td>\n",
              "      <td>30.952374</td>\n",
              "      <td>Intermediate</td>\n",
              "      <td>SPI Errors</td>\n",
              "      <td>0.474453</td>\n",
              "    </tr>\n",
              "    <tr>\n",
              "      <th>1</th>\n",
              "      <td>53333</td>\n",
              "      <td>Eric Carr</td>\n",
              "      <td>2023-12-14</td>\n",
              "      <td>25</td>\n",
              "      <td>1999-04-24</td>\n",
              "      <td>Female</td>\n",
              "      <td>Diploma</td>\n",
              "      <td>31.083474</td>\n",
              "      <td>Intermediate</td>\n",
              "      <td>SPI Errors</td>\n",
              "      <td>0.753039</td>\n",
              "    </tr>\n",
              "    <tr>\n",
              "      <th>2</th>\n",
              "      <td>53333</td>\n",
              "      <td>Eric Carr</td>\n",
              "      <td>2023-12-14</td>\n",
              "      <td>25</td>\n",
              "      <td>1999-04-24</td>\n",
              "      <td>Female</td>\n",
              "      <td>Diploma</td>\n",
              "      <td>37.246623</td>\n",
              "      <td>Intermediate</td>\n",
              "      <td>High Low</td>\n",
              "      <td>0.173610</td>\n",
              "    </tr>\n",
              "    <tr>\n",
              "      <th>3</th>\n",
              "      <td>53333</td>\n",
              "      <td>Eric Carr</td>\n",
              "      <td>2023-12-14</td>\n",
              "      <td>25</td>\n",
              "      <td>1999-04-24</td>\n",
              "      <td>Female</td>\n",
              "      <td>Diploma</td>\n",
              "      <td>31.716454</td>\n",
              "      <td>Intermediate</td>\n",
              "      <td>High Low</td>\n",
              "      <td>0.865333</td>\n",
              "    </tr>\n",
              "    <tr>\n",
              "      <th>4</th>\n",
              "      <td>53333</td>\n",
              "      <td>Eric Carr</td>\n",
              "      <td>2023-12-14</td>\n",
              "      <td>25</td>\n",
              "      <td>1999-04-24</td>\n",
              "      <td>Female</td>\n",
              "      <td>Diploma</td>\n",
              "      <td>32.490001</td>\n",
              "      <td>Intermediate</td>\n",
              "      <td>High Low</td>\n",
              "      <td>0.846176</td>\n",
              "    </tr>\n",
              "  </tbody>\n",
              "</table>\n",
              "</div>"
            ],
            "text/plain": [
              "      ID       Name Joining Date  Age  Birth Date  Gender Education  \\\n",
              "0  53333  Eric Carr   2023-12-14   25  1999-04-24  Female   Diploma   \n",
              "1  53333  Eric Carr   2023-12-14   25  1999-04-24  Female   Diploma   \n",
              "2  53333  Eric Carr   2023-12-14   25  1999-04-24  Female   Diploma   \n",
              "3  53333  Eric Carr   2023-12-14   25  1999-04-24  Female   Diploma   \n",
              "4  53333  Eric Carr   2023-12-14   25  1999-04-24  Female   Diploma   \n",
              "\n",
              "   Average Working Hours   Skill Level Defect Type  Defect Rate  \n",
              "0              30.952374  Intermediate  SPI Errors     0.474453  \n",
              "1              31.083474  Intermediate  SPI Errors     0.753039  \n",
              "2              37.246623  Intermediate    High Low     0.173610  \n",
              "3              31.716454  Intermediate    High Low     0.865333  \n",
              "4              32.490001  Intermediate    High Low     0.846176  "
            ]
          },
          "execution_count": 4,
          "metadata": {},
          "output_type": "execute_result"
        }
      ],
      "source": [
        "exp_data.head()"
      ]
    },
    {
      "cell_type": "code",
      "execution_count": 5,
      "metadata": {
        "colab": {
          "base_uri": "https://localhost:8080/"
        },
        "id": "Z0Co7PWg8P6Q",
        "outputId": "30c543dd-6573-4099-c84d-4bb3ba2dd63b"
      },
      "outputs": [
        {
          "data": {
            "text/plain": [
              "ID                       5000\n",
              "Name                     5000\n",
              "Joining Date             5000\n",
              "Age                      5000\n",
              "Birth Date               5000\n",
              "Gender                   5000\n",
              "Education                5000\n",
              "Average Working Hours    5000\n",
              "Skill Level              5000\n",
              "Defect Type              5000\n",
              "Defect Rate              5000\n",
              "dtype: int64"
            ]
          },
          "execution_count": 5,
          "metadata": {},
          "output_type": "execute_result"
        }
      ],
      "source": [
        "exp_data.count()"
      ]
    },
    {
      "cell_type": "code",
      "execution_count": 6,
      "metadata": {
        "id": "_BD1lO2b8aLB"
      },
      "outputs": [],
      "source": [
        "fields_to_drop = ['ID', 'Name', 'Birth Date', 'Age', 'Gender', 'Education', 'Average Working Hours', 'Skill Level']\n",
        "\n",
        "# Drop the specified fields\n",
        "exp_data.drop(columns=fields_to_drop, inplace=True)"
      ]
    },
    {
      "cell_type": "code",
      "execution_count": 7,
      "metadata": {
        "colab": {
          "base_uri": "https://localhost:8080/",
          "height": 206
        },
        "id": "MNi2tVjo9GUm",
        "outputId": "166d795e-0e9e-4657-98fe-0b65eed9e0e2"
      },
      "outputs": [
        {
          "data": {
            "text/html": [
              "<div>\n",
              "<style scoped>\n",
              "    .dataframe tbody tr th:only-of-type {\n",
              "        vertical-align: middle;\n",
              "    }\n",
              "\n",
              "    .dataframe tbody tr th {\n",
              "        vertical-align: top;\n",
              "    }\n",
              "\n",
              "    .dataframe thead th {\n",
              "        text-align: right;\n",
              "    }\n",
              "</style>\n",
              "<table border=\"1\" class=\"dataframe\">\n",
              "  <thead>\n",
              "    <tr style=\"text-align: right;\">\n",
              "      <th></th>\n",
              "      <th>Joining Date</th>\n",
              "      <th>Defect Type</th>\n",
              "      <th>Defect Rate</th>\n",
              "    </tr>\n",
              "  </thead>\n",
              "  <tbody>\n",
              "    <tr>\n",
              "      <th>0</th>\n",
              "      <td>2023-12-14</td>\n",
              "      <td>SPI Errors</td>\n",
              "      <td>0.474453</td>\n",
              "    </tr>\n",
              "    <tr>\n",
              "      <th>1</th>\n",
              "      <td>2023-12-14</td>\n",
              "      <td>SPI Errors</td>\n",
              "      <td>0.753039</td>\n",
              "    </tr>\n",
              "    <tr>\n",
              "      <th>2</th>\n",
              "      <td>2023-12-14</td>\n",
              "      <td>High Low</td>\n",
              "      <td>0.173610</td>\n",
              "    </tr>\n",
              "    <tr>\n",
              "      <th>3</th>\n",
              "      <td>2023-12-14</td>\n",
              "      <td>High Low</td>\n",
              "      <td>0.865333</td>\n",
              "    </tr>\n",
              "    <tr>\n",
              "      <th>4</th>\n",
              "      <td>2023-12-14</td>\n",
              "      <td>High Low</td>\n",
              "      <td>0.846176</td>\n",
              "    </tr>\n",
              "  </tbody>\n",
              "</table>\n",
              "</div>"
            ],
            "text/plain": [
              "  Joining Date Defect Type  Defect Rate\n",
              "0   2023-12-14  SPI Errors     0.474453\n",
              "1   2023-12-14  SPI Errors     0.753039\n",
              "2   2023-12-14    High Low     0.173610\n",
              "3   2023-12-14    High Low     0.865333\n",
              "4   2023-12-14    High Low     0.846176"
            ]
          },
          "execution_count": 7,
          "metadata": {},
          "output_type": "execute_result"
        }
      ],
      "source": [
        "exp_data.head()"
      ]
    },
    {
      "cell_type": "code",
      "execution_count": 8,
      "metadata": {
        "id": "XgHwgCm79K1c"
      },
      "outputs": [],
      "source": [
        "Y = exp_data['Defect Rate']\n",
        "X = exp_data.drop(\"Defect Rate\", axis = 1)"
      ]
    },
    {
      "cell_type": "code",
      "execution_count": 9,
      "metadata": {
        "colab": {
          "base_uri": "https://localhost:8080/"
        },
        "id": "lodB9dLB9YHN",
        "outputId": "c3b9fc20-4e5d-4eeb-fe7f-0eb96c479c66"
      },
      "outputs": [
        {
          "data": {
            "text/plain": [
              "array([[0.0, 0.0, 0.0, 1.0, '2023-12-14'],\n",
              "       [0.0, 0.0, 0.0, 1.0, '2023-12-14'],\n",
              "       [1.0, 0.0, 0.0, 0.0, '2023-12-14'],\n",
              "       ...,\n",
              "       [0.0, 0.0, 1.0, 0.0, '2022-04-27'],\n",
              "       [0.0, 0.0, 1.0, 0.0, '2022-04-27'],\n",
              "       [1.0, 0.0, 0.0, 0.0, '2022-04-27']], dtype=object)"
            ]
          },
          "execution_count": 9,
          "metadata": {},
          "output_type": "execute_result"
        }
      ],
      "source": [
        "from sklearn.preprocessing import OneHotEncoder\n",
        "from sklearn.compose import ColumnTransformer\n",
        "categorical_features = [\"Defect Type\"]\n",
        "one_hot = OneHotEncoder()\n",
        "transformed = ColumnTransformer([(\"one_hot\", one_hot, categorical_features)], remainder=\"passthrough\")\n",
        "\n",
        "transformed_x = transformed.fit_transform(X)\n",
        "transformed_x"
      ]
    },
    {
      "cell_type": "code",
      "execution_count": 10,
      "metadata": {
        "colab": {
          "base_uri": "https://localhost:8080/"
        },
        "id": "kSaYPuH99gjW",
        "outputId": "deed1cd3-593a-4ef4-8910-0e8d9ef2e954"
      },
      "outputs": [
        {
          "data": {
            "text/plain": [
              "(5000, 5)"
            ]
          },
          "execution_count": 10,
          "metadata": {},
          "output_type": "execute_result"
        }
      ],
      "source": [
        "transformed_x.shape"
      ]
    },
    {
      "cell_type": "code",
      "execution_count": 11,
      "metadata": {
        "colab": {
          "base_uri": "https://localhost:8080/"
        },
        "id": "0_T4IUZX_kw9",
        "outputId": "7f24d5be-1bf5-4394-f2fa-ff9f7eb57f72"
      },
      "outputs": [
        {
          "name": "stdout",
          "output_type": "stream",
          "text": [
            "False\n"
          ]
        }
      ],
      "source": [
        "has_null_values = any(x is None for x in exp_data['Joining Date'])\n",
        "\n",
        "# Print result\n",
        "print(has_null_values)"
      ]
    },
    {
      "cell_type": "code",
      "execution_count": 12,
      "metadata": {
        "colab": {
          "base_uri": "https://localhost:8080/",
          "height": 193
        },
        "id": "vtN94oWh9qqq",
        "outputId": "271befa8-65e3-44ed-a745-5495edb65406"
      },
      "outputs": [
        {
          "ename": "IndexError",
          "evalue": "only integers, slices (`:`), ellipsis (`...`), numpy.newaxis (`None`) and integer or boolean arrays are valid indices",
          "output_type": "error",
          "traceback": [
            "\u001b[1;31m---------------------------------------------------------------------------\u001b[0m",
            "\u001b[1;31mIndexError\u001b[0m                                Traceback (most recent call last)",
            "Cell \u001b[1;32mIn[12], line 20\u001b[0m\n\u001b[0;32m     17\u001b[0m label_encoder \u001b[38;5;241m=\u001b[39m LabelEncoder()\n\u001b[0;32m     19\u001b[0m \u001b[38;5;66;03m# Convert the 'Joining Date' column to encoded integers\u001b[39;00m\n\u001b[1;32m---> 20\u001b[0m X_train[\u001b[38;5;124m'\u001b[39m\u001b[38;5;124mJoining Date\u001b[39m\u001b[38;5;124m'\u001b[39m] \u001b[38;5;241m=\u001b[39m label_encoder\u001b[38;5;241m.\u001b[39mfit_transform(\u001b[43mX_train\u001b[49m\u001b[43m[\u001b[49m\u001b[38;5;124;43m'\u001b[39;49m\u001b[38;5;124;43mJoining Date\u001b[39;49m\u001b[38;5;124;43m'\u001b[39;49m\u001b[43m]\u001b[49m)\n\u001b[0;32m     21\u001b[0m X_test[\u001b[38;5;124m'\u001b[39m\u001b[38;5;124mJoining Date\u001b[39m\u001b[38;5;124m'\u001b[39m] \u001b[38;5;241m=\u001b[39m label_encoder\u001b[38;5;241m.\u001b[39mtransform(X_test[\u001b[38;5;124m'\u001b[39m\u001b[38;5;124mJoining Date\u001b[39m\u001b[38;5;124m'\u001b[39m])\n",
            "\u001b[1;31mIndexError\u001b[0m: only integers, slices (`:`), ellipsis (`...`), numpy.newaxis (`None`) and integer or boolean arrays are valid indices"
          ]
        }
      ],
      "source": [
        "from sklearn.ensemble import RandomForestRegressor\n",
        "from sklearn.model_selection import train_test_split\n",
        "from sklearn.preprocessing import LabelEncoder\n",
        "import numpy as np\n",
        "\n",
        "# Assuming '2022-10-04' is in a column named 'Joining Date'\n",
        "# Make sure 'Joining Date' contains string values representing dates\n",
        "\n",
        "# Instantiate the RandomForestRegressor model\n",
        "model = RandomForestRegressor()\n",
        "\n",
        "# Split the data into training and testing sets\n",
        "np.random.seed(42)\n",
        "X_train, X_test, Y_train, Y_test = train_test_split(transformed_x, Y, test_size=0.2)\n",
        "\n",
        "# Instantiate the LabelEncoder\n",
        "label_encoder = LabelEncoder()\n",
        "\n",
        "# Convert the 'Joining Date' column to encoded integers\n",
        "X_train['Joining Date'] = label_encoder.fit_transform(X_train['Joining Date'])\n",
        "X_test['Joining Date'] = label_encoder.transform(X_test['Joining Date'])\n"
      ]
    },
    {
      "cell_type": "markdown",
      "metadata": {
        "id": "cyAq2Jn-LD4e"
      },
      "source": [
        "2nd Approch\n"
      ]
    },
    {
      "cell_type": "code",
      "execution_count": 13,
      "metadata": {
        "id": "knqhMtktLIOM"
      },
      "outputs": [],
      "source": [
        "import numpy as np\n",
        "import pandas as pd\n",
        "from sklearn.model_selection import train_test_split\n",
        "from sklearn.linear_model import LogisticRegression\n",
        "from sklearn.metrics import accuracy_score\n",
        "\n"
      ]
    },
    {
      "cell_type": "code",
      "execution_count": 14,
      "metadata": {
        "id": "ZeYeg68mLQ1p"
      },
      "outputs": [],
      "source": [
        "time_data = pd.read_csv('C:\\\\Users\\\\user\\\\Desktop\\\\R24-066\\\\Component 04\\\\Dataset\\\\time_series_data_01.csv')"
      ]
    },
    {
      "cell_type": "code",
      "execution_count": 15,
      "metadata": {
        "colab": {
          "base_uri": "https://localhost:8080/",
          "height": 206
        },
        "id": "SlgO_f7KLwPj",
        "outputId": "24f70edc-9bc9-48c1-f1bc-d64d7f635b91"
      },
      "outputs": [
        {
          "data": {
            "text/html": [
              "<div>\n",
              "<style scoped>\n",
              "    .dataframe tbody tr th:only-of-type {\n",
              "        vertical-align: middle;\n",
              "    }\n",
              "\n",
              "    .dataframe tbody tr th {\n",
              "        vertical-align: top;\n",
              "    }\n",
              "\n",
              "    .dataframe thead th {\n",
              "        text-align: right;\n",
              "    }\n",
              "</style>\n",
              "<table border=\"1\" class=\"dataframe\">\n",
              "  <thead>\n",
              "    <tr style=\"text-align: right;\">\n",
              "      <th></th>\n",
              "      <th>Employee_ID</th>\n",
              "      <th>Date</th>\n",
              "      <th>Defect_Type</th>\n",
              "      <th>Defect_Count</th>\n",
              "      <th>Defect_Rate</th>\n",
              "      <th>Weekday</th>\n",
              "    </tr>\n",
              "  </thead>\n",
              "  <tbody>\n",
              "    <tr>\n",
              "      <th>0</th>\n",
              "      <td>EMP592</td>\n",
              "      <td>2024-01-01</td>\n",
              "      <td>Openseam</td>\n",
              "      <td>63</td>\n",
              "      <td>83.339036</td>\n",
              "      <td>Monday</td>\n",
              "    </tr>\n",
              "    <tr>\n",
              "      <th>1</th>\n",
              "      <td>EMP592</td>\n",
              "      <td>2024-01-01</td>\n",
              "      <td>SPI Errors</td>\n",
              "      <td>68</td>\n",
              "      <td>35.136620</td>\n",
              "      <td>Monday</td>\n",
              "    </tr>\n",
              "    <tr>\n",
              "      <th>2</th>\n",
              "      <td>EMP592</td>\n",
              "      <td>2024-01-01</td>\n",
              "      <td>High Low</td>\n",
              "      <td>91</td>\n",
              "      <td>67.000427</td>\n",
              "      <td>Monday</td>\n",
              "    </tr>\n",
              "    <tr>\n",
              "      <th>3</th>\n",
              "      <td>EMP592</td>\n",
              "      <td>2024-01-01</td>\n",
              "      <td>Runoff</td>\n",
              "      <td>57</td>\n",
              "      <td>32.988883</td>\n",
              "      <td>Monday</td>\n",
              "    </tr>\n",
              "    <tr>\n",
              "      <th>4</th>\n",
              "      <td>EMP592</td>\n",
              "      <td>2024-01-02</td>\n",
              "      <td>Runoff</td>\n",
              "      <td>57</td>\n",
              "      <td>71.167554</td>\n",
              "      <td>Tuesday</td>\n",
              "    </tr>\n",
              "  </tbody>\n",
              "</table>\n",
              "</div>"
            ],
            "text/plain": [
              "  Employee_ID        Date Defect_Type  Defect_Count  Defect_Rate  Weekday\n",
              "0      EMP592  2024-01-01    Openseam            63    83.339036   Monday\n",
              "1      EMP592  2024-01-01  SPI Errors            68    35.136620   Monday\n",
              "2      EMP592  2024-01-01    High Low            91    67.000427   Monday\n",
              "3      EMP592  2024-01-01      Runoff            57    32.988883   Monday\n",
              "4      EMP592  2024-01-02      Runoff            57    71.167554  Tuesday"
            ]
          },
          "execution_count": 15,
          "metadata": {},
          "output_type": "execute_result"
        }
      ],
      "source": [
        "time_data.head()"
      ]
    },
    {
      "cell_type": "code",
      "execution_count": 16,
      "metadata": {
        "colab": {
          "base_uri": "https://localhost:8080/"
        },
        "id": "5oTnAol4MML5",
        "outputId": "383f5944-f21f-4a32-ec14-3e1de3fe95e1"
      },
      "outputs": [
        {
          "data": {
            "text/plain": [
              "Employee_ID     250\n",
              "Date            250\n",
              "Defect_Type     250\n",
              "Defect_Count    250\n",
              "Defect_Rate     250\n",
              "Weekday         250\n",
              "dtype: int64"
            ]
          },
          "execution_count": 16,
          "metadata": {},
          "output_type": "execute_result"
        }
      ],
      "source": [
        "time_data.count()"
      ]
    },
    {
      "cell_type": "code",
      "execution_count": 17,
      "metadata": {
        "id": "tbNsj5zJMQF3"
      },
      "outputs": [],
      "source": [
        "fields_to_drop = ['Employee_ID', 'Date']\n",
        "\n",
        "# Drop the specified fields\n",
        "time_data.drop(columns=fields_to_drop, inplace=True)"
      ]
    },
    {
      "cell_type": "code",
      "execution_count": 18,
      "metadata": {
        "id": "jNZMDqXEQd_m"
      },
      "outputs": [],
      "source": [
        "# fields_to_drop = ['Weekday']\n",
        "\n",
        "# # Drop the specified fields\n",
        "# time_data.drop(columns=fields_to_drop, inplace=True)"
      ]
    },
    {
      "cell_type": "code",
      "execution_count": 19,
      "metadata": {
        "colab": {
          "base_uri": "https://localhost:8080/",
          "height": 206
        },
        "id": "BkwPx2EEM820",
        "outputId": "7041f29d-0a16-4f7b-ad98-27962e934862"
      },
      "outputs": [
        {
          "data": {
            "text/html": [
              "<div>\n",
              "<style scoped>\n",
              "    .dataframe tbody tr th:only-of-type {\n",
              "        vertical-align: middle;\n",
              "    }\n",
              "\n",
              "    .dataframe tbody tr th {\n",
              "        vertical-align: top;\n",
              "    }\n",
              "\n",
              "    .dataframe thead th {\n",
              "        text-align: right;\n",
              "    }\n",
              "</style>\n",
              "<table border=\"1\" class=\"dataframe\">\n",
              "  <thead>\n",
              "    <tr style=\"text-align: right;\">\n",
              "      <th></th>\n",
              "      <th>Defect_Type</th>\n",
              "      <th>Defect_Count</th>\n",
              "      <th>Defect_Rate</th>\n",
              "      <th>Weekday</th>\n",
              "    </tr>\n",
              "  </thead>\n",
              "  <tbody>\n",
              "    <tr>\n",
              "      <th>0</th>\n",
              "      <td>Openseam</td>\n",
              "      <td>63</td>\n",
              "      <td>83.339036</td>\n",
              "      <td>Monday</td>\n",
              "    </tr>\n",
              "    <tr>\n",
              "      <th>1</th>\n",
              "      <td>SPI Errors</td>\n",
              "      <td>68</td>\n",
              "      <td>35.136620</td>\n",
              "      <td>Monday</td>\n",
              "    </tr>\n",
              "    <tr>\n",
              "      <th>2</th>\n",
              "      <td>High Low</td>\n",
              "      <td>91</td>\n",
              "      <td>67.000427</td>\n",
              "      <td>Monday</td>\n",
              "    </tr>\n",
              "    <tr>\n",
              "      <th>3</th>\n",
              "      <td>Runoff</td>\n",
              "      <td>57</td>\n",
              "      <td>32.988883</td>\n",
              "      <td>Monday</td>\n",
              "    </tr>\n",
              "    <tr>\n",
              "      <th>4</th>\n",
              "      <td>Runoff</td>\n",
              "      <td>57</td>\n",
              "      <td>71.167554</td>\n",
              "      <td>Tuesday</td>\n",
              "    </tr>\n",
              "  </tbody>\n",
              "</table>\n",
              "</div>"
            ],
            "text/plain": [
              "  Defect_Type  Defect_Count  Defect_Rate  Weekday\n",
              "0    Openseam            63    83.339036   Monday\n",
              "1  SPI Errors            68    35.136620   Monday\n",
              "2    High Low            91    67.000427   Monday\n",
              "3      Runoff            57    32.988883   Monday\n",
              "4      Runoff            57    71.167554  Tuesday"
            ]
          },
          "execution_count": 19,
          "metadata": {},
          "output_type": "execute_result"
        }
      ],
      "source": [
        "time_data.head()"
      ]
    },
    {
      "cell_type": "code",
      "execution_count": 20,
      "metadata": {
        "id": "y46GFqsoNdRo"
      },
      "outputs": [],
      "source": [
        "Y = time_data['Defect_Rate']\n",
        "X = time_data.drop(\"Defect_Rate\", axis = 1)"
      ]
    },
    {
      "cell_type": "code",
      "execution_count": 21,
      "metadata": {
        "colab": {
          "base_uri": "https://localhost:8080/"
        },
        "id": "jqePBn7HNEbW",
        "outputId": "3bd0f366-ffa6-40ec-dfa2-490ac554af1b"
      },
      "outputs": [
        {
          "data": {
            "text/plain": [
              "array([[ 0.,  1.,  0., ...,  0.,  0., 63.],\n",
              "       [ 0.,  0.,  0., ...,  0.,  0., 68.],\n",
              "       [ 1.,  0.,  0., ...,  0.,  0., 91.],\n",
              "       ...,\n",
              "       [ 0.,  0.,  1., ...,  1.,  0., 80.],\n",
              "       [ 0.,  0.,  0., ...,  0.,  1., 86.],\n",
              "       [ 0.,  0.,  1., ...,  0.,  1., 65.]])"
            ]
          },
          "execution_count": 21,
          "metadata": {},
          "output_type": "execute_result"
        }
      ],
      "source": [
        "from sklearn.preprocessing import OneHotEncoder\n",
        "from sklearn.compose import ColumnTransformer\n",
        "categorical_features = [\"Defect_Type\", \"Weekday\"]\n",
        "one_hot = OneHotEncoder()\n",
        "transformed = ColumnTransformer([(\"one_hot\", one_hot, categorical_features)], remainder=\"passthrough\")\n",
        "\n",
        "transformed_x = transformed.fit_transform(X)\n",
        "transformed_x"
      ]
    },
    {
      "cell_type": "code",
      "execution_count": 22,
      "metadata": {
        "colab": {
          "base_uri": "https://localhost:8080/"
        },
        "id": "42nx3iebN6vd",
        "outputId": "5a67cfbd-713b-433e-ee42-1a724a6fc52c"
      },
      "outputs": [
        {
          "data": {
            "text/plain": [
              "(250, 10)"
            ]
          },
          "execution_count": 22,
          "metadata": {},
          "output_type": "execute_result"
        }
      ],
      "source": [
        "transformed_x.shape"
      ]
    },
    {
      "cell_type": "code",
      "execution_count": 23,
      "metadata": {
        "colab": {
          "base_uri": "https://localhost:8080/"
        },
        "id": "OZy3keAxOOis",
        "outputId": "fd604d7e-ed5d-4008-86be-7f30832cb72e"
      },
      "outputs": [
        {
          "data": {
            "text/plain": [
              "-0.1811371942409632"
            ]
          },
          "execution_count": 23,
          "metadata": {},
          "output_type": "execute_result"
        }
      ],
      "source": [
        "from sklearn.ensemble import RandomForestRegressor\n",
        "\n",
        "# Model\n",
        "model = RandomForestRegressor()\n",
        "np.random.seed(42)\n",
        "X_train, X_test, Y_train, Y_test = train_test_split(transformed_x, Y, test_size=0.2)\n",
        "model.fit(X_train, Y_train)\n",
        "model.score(X_test, Y_test)"
      ]
    },
    {
      "cell_type": "code",
      "execution_count": 24,
      "metadata": {
        "colab": {
          "base_uri": "https://localhost:8080/"
        },
        "id": "0nRaRIS_RQpk",
        "outputId": "881f2edd-1f37-48f5-b3fd-e6705384149f"
      },
      "outputs": [
        {
          "name": "stdout",
          "output_type": "stream",
          "text": [
            "[25.32726896]\n"
          ]
        }
      ],
      "source": [
        "# Function to convert occurrences and number to input data\n",
        "def convert_to_input_data(occurrences, weekday, number):\n",
        "    # Combine occurrences and number into an array\n",
        "    input_data = np.array([*occurrences, *weekday, number])\n",
        "    return input_data\n",
        "\n",
        "# Model prediction function\n",
        "def make_prediction(model, input_data):\n",
        "    # Reshape the input data for prediction\n",
        "    input_data_reshaped = np.asarray(input_data).reshape(1, -1)\n",
        "    # Make prediction\n",
        "    prediction = model.predict(input_data_reshaped)\n",
        "    return prediction\n",
        "\n",
        "def convert_occurrence_to_array(occurrence, max_occurrence):\n",
        "    # Initialize an array to store the occurrence\n",
        "    occurrence_array = [0] * max_occurrence\n",
        "    # Convert the occurrence to an index\n",
        "    index = occurrence - 1\n",
        "    # Set the value at the index to 1 if within range\n",
        "    if 0 <= index < max_occurrence:\n",
        "        occurrence_array[index] = 1\n",
        "    return occurrence_array\n",
        "\n",
        "# Sample occurrences and number\n",
        "occurrences = 4\n",
        "weekday = 1\n",
        "defects_count = 69\n",
        "\n",
        "# Convert occurrences and number to input data\n",
        "input_data = convert_to_input_data(convert_occurrence_to_array(occurrences, 4), convert_occurrence_to_array(weekday, 5), defects_count)\n",
        "\n",
        "# Make prediction\n",
        "prediction = make_prediction(model, input_data)\n",
        "print(prediction)"
      ]
    },
    {
      "cell_type": "code",
      "execution_count": 29,
      "metadata": {
        "colab": {
          "base_uri": "https://localhost:8080/",
          "height": 560
        },
        "id": "amVvsrjodSAi",
        "outputId": "2fe9b2bf-b0ee-4a78-dfc6-3f9cfdc26349"
      },
      "outputs": [
        {
          "name": "stdout",
          "output_type": "stream",
          "text": [
            "[42.340944392252034, 27.859722522088706, 36.25955496788338, 64.44775833059727, 37.923994151842756, 58.35097273859589]\n"
          ]
        },
        {
          "ename": "ValueError",
          "evalue": "Mime type rendering requires nbformat>=4.2.0 but it is not installed",
          "output_type": "error",
          "traceback": [
            "\u001b[1;31m---------------------------------------------------------------------------\u001b[0m",
            "\u001b[1;31mValueError\u001b[0m                                Traceback (most recent call last)",
            "Cell \u001b[1;32mIn[29], line 50\u001b[0m\n\u001b[0;32m     47\u001b[0m fig \u001b[38;5;241m=\u001b[39m go\u001b[38;5;241m.\u001b[39mFigure(data\u001b[38;5;241m=\u001b[39mdata, layout\u001b[38;5;241m=\u001b[39mlayout)\n\u001b[0;32m     49\u001b[0m \u001b[38;5;66;03m# Plot the figure\u001b[39;00m\n\u001b[1;32m---> 50\u001b[0m \u001b[43mfig\u001b[49m\u001b[38;5;241;43m.\u001b[39;49m\u001b[43mshow\u001b[49m\u001b[43m(\u001b[49m\u001b[43m)\u001b[49m\n",
            "File \u001b[1;32mc:\\Users\\user\\AppData\\Local\\Programs\\Python\\Python312\\Lib\\site-packages\\plotly\\basedatatypes.py:3410\u001b[0m, in \u001b[0;36mBaseFigure.show\u001b[1;34m(self, *args, **kwargs)\u001b[0m\n\u001b[0;32m   3377\u001b[0m \u001b[38;5;250m\u001b[39m\u001b[38;5;124;03m\"\"\"\u001b[39;00m\n\u001b[0;32m   3378\u001b[0m \u001b[38;5;124;03mShow a figure using either the default renderer(s) or the renderer(s)\u001b[39;00m\n\u001b[0;32m   3379\u001b[0m \u001b[38;5;124;03mspecified by the renderer argument\u001b[39;00m\n\u001b[1;32m   (...)\u001b[0m\n\u001b[0;32m   3406\u001b[0m \u001b[38;5;124;03mNone\u001b[39;00m\n\u001b[0;32m   3407\u001b[0m \u001b[38;5;124;03m\"\"\"\u001b[39;00m\n\u001b[0;32m   3408\u001b[0m \u001b[38;5;28;01mimport\u001b[39;00m \u001b[38;5;21;01mplotly\u001b[39;00m\u001b[38;5;21;01m.\u001b[39;00m\u001b[38;5;21;01mio\u001b[39;00m \u001b[38;5;28;01mas\u001b[39;00m \u001b[38;5;21;01mpio\u001b[39;00m\n\u001b[1;32m-> 3410\u001b[0m \u001b[38;5;28;01mreturn\u001b[39;00m \u001b[43mpio\u001b[49m\u001b[38;5;241;43m.\u001b[39;49m\u001b[43mshow\u001b[49m\u001b[43m(\u001b[49m\u001b[38;5;28;43mself\u001b[39;49m\u001b[43m,\u001b[49m\u001b[43m \u001b[49m\u001b[38;5;241;43m*\u001b[39;49m\u001b[43margs\u001b[49m\u001b[43m,\u001b[49m\u001b[43m \u001b[49m\u001b[38;5;241;43m*\u001b[39;49m\u001b[38;5;241;43m*\u001b[39;49m\u001b[43mkwargs\u001b[49m\u001b[43m)\u001b[49m\n",
            "File \u001b[1;32mc:\\Users\\user\\AppData\\Local\\Programs\\Python\\Python312\\Lib\\site-packages\\plotly\\io\\_renderers.py:394\u001b[0m, in \u001b[0;36mshow\u001b[1;34m(fig, renderer, validate, **kwargs)\u001b[0m\n\u001b[0;32m    389\u001b[0m         \u001b[38;5;28;01mraise\u001b[39;00m \u001b[38;5;167;01mValueError\u001b[39;00m(\n\u001b[0;32m    390\u001b[0m             \u001b[38;5;124m\"\u001b[39m\u001b[38;5;124mMime type rendering requires ipython but it is not installed\u001b[39m\u001b[38;5;124m\"\u001b[39m\n\u001b[0;32m    391\u001b[0m         )\n\u001b[0;32m    393\u001b[0m     \u001b[38;5;28;01mif\u001b[39;00m \u001b[38;5;129;01mnot\u001b[39;00m nbformat \u001b[38;5;129;01mor\u001b[39;00m Version(nbformat\u001b[38;5;241m.\u001b[39m__version__) \u001b[38;5;241m<\u001b[39m Version(\u001b[38;5;124m\"\u001b[39m\u001b[38;5;124m4.2.0\u001b[39m\u001b[38;5;124m\"\u001b[39m):\n\u001b[1;32m--> 394\u001b[0m         \u001b[38;5;28;01mraise\u001b[39;00m \u001b[38;5;167;01mValueError\u001b[39;00m(\n\u001b[0;32m    395\u001b[0m             \u001b[38;5;124m\"\u001b[39m\u001b[38;5;124mMime type rendering requires nbformat>=4.2.0 but it is not installed\u001b[39m\u001b[38;5;124m\"\u001b[39m\n\u001b[0;32m    396\u001b[0m         )\n\u001b[0;32m    398\u001b[0m     ipython_display\u001b[38;5;241m.\u001b[39mdisplay(bundle, raw\u001b[38;5;241m=\u001b[39m\u001b[38;5;28;01mTrue\u001b[39;00m)\n\u001b[0;32m    400\u001b[0m \u001b[38;5;66;03m# external renderers\u001b[39;00m\n",
            "\u001b[1;31mValueError\u001b[0m: Mime type rendering requires nbformat>=4.2.0 but it is not installed"
          ]
        }
      ],
      "source": [
        "import plotly.graph_objs as go\n",
        "\n",
        "occurrences = 3\n",
        "defects_count = 69\n",
        "predictions = []\n",
        "\n",
        "for weekday in range(6):\n",
        "    input_data = convert_to_input_data(convert_occurrence_to_array(occurrences, 4), convert_occurrence_to_array(weekday, 5), defects_count)\n",
        "    prediction = make_prediction(model, input_data)\n",
        "    predictions.append(prediction[0])  # Flatten the predictions list\n",
        "\n",
        "print(predictions)\n",
        "\n",
        "# Create traces\n",
        "trace = go.Scatter(\n",
        "    x=list(range(6)),\n",
        "    y=predictions,\n",
        "    mode='markers+lines',\n",
        "    marker=dict(\n",
        "        size=10,\n",
        "        color='rgba(255, 182, 193, .9)',\n",
        "        line=dict(width=2, color='rgb(0, 0, 0)')\n",
        "    ),\n",
        "    line=dict(\n",
        "        color='rgb(0, 0, 0)',\n",
        "        width=2\n",
        "    )\n",
        ")\n",
        "\n",
        "data = [trace]\n",
        "\n",
        "# Create layout\n",
        "layout = go.Layout(\n",
        "    title='Predictions vs. Weekday',\n",
        "    xaxis=dict(\n",
        "        title='Weekday',\n",
        "        tickvals=list(range(6)),\n",
        "        ticktext=['Monday', 'Tuesday', 'Wednesday', 'Thursday', 'Friday', 'Saturday'],\n",
        "        range=[0, 5]  # Restrict x-axis scale between values 2 and 4\n",
        "    ),\n",
        "    yaxis=dict(\n",
        "        title='Prediction Value',\n",
        "    )\n",
        ")\n",
        "\n",
        "# Create figure\n",
        "fig = go.Figure(data=data, layout=layout)\n",
        "\n",
        "# Plot the figure\n",
        "fig.show()\n"
      ]
    },
    {
      "cell_type": "code",
      "execution_count": 26,
      "metadata": {},
      "outputs": [
        {
          "name": "stdout",
          "output_type": "stream",
          "text": [
            "Collecting plotly\n",
            "  Downloading plotly-5.22.0-py3-none-any.whl.metadata (7.1 kB)\n",
            "Collecting tenacity>=6.2.0 (from plotly)\n",
            "  Using cached tenacity-8.2.3-py3-none-any.whl.metadata (1.0 kB)\n",
            "Requirement already satisfied: packaging in c:\\users\\user\\appdata\\local\\programs\\python\\python312\\lib\\site-packages (from plotly) (23.2)\n",
            "Downloading plotly-5.22.0-py3-none-any.whl (16.4 MB)\n",
            "   ---------------------------------------- 0.0/16.4 MB ? eta -:--:--\n",
            "   ---------------------------------------- 0.0/16.4 MB ? eta -:--:--\n",
            "   ---------------------------------------- 0.0/16.4 MB ? eta -:--:--\n",
            "   ---------------------------------------- 0.0/16.4 MB ? eta -:--:--\n",
            "   ---------------------------------------- 0.0/16.4 MB ? eta -:--:--\n",
            "   ---------------------------------------- 0.0/16.4 MB 187.9 kB/s eta 0:01:28\n",
            "   ---------------------------------------- 0.0/16.4 MB 179.6 kB/s eta 0:01:32\n",
            "   ---------------------------------------- 0.1/16.4 MB 252.2 kB/s eta 0:01:05\n",
            "   ---------------------------------------- 0.1/16.4 MB 386.4 kB/s eta 0:00:43\n",
            "    --------------------------------------- 0.2/16.4 MB 655.6 kB/s eta 0:00:25\n",
            "    --------------------------------------- 0.3/16.4 MB 873.8 kB/s eta 0:00:19\n",
            "    --------------------------------------- 0.4/16.4 MB 933.2 kB/s eta 0:00:18\n",
            "   - -------------------------------------- 0.6/16.4 MB 1.2 MB/s eta 0:00:14\n",
            "   - -------------------------------------- 0.8/16.4 MB 1.5 MB/s eta 0:00:11\n",
            "   -- ------------------------------------- 1.0/16.4 MB 1.9 MB/s eta 0:00:09\n",
            "   --- ------------------------------------ 1.3/16.4 MB 2.2 MB/s eta 0:00:07\n",
            "   --- ------------------------------------ 1.6/16.4 MB 2.5 MB/s eta 0:00:06\n",
            "   ---- ----------------------------------- 1.8/16.4 MB 2.7 MB/s eta 0:00:06\n",
            "   ----- ---------------------------------- 2.2/16.4 MB 2.9 MB/s eta 0:00:05\n",
            "   ----- ---------------------------------- 2.4/16.4 MB 3.1 MB/s eta 0:00:05\n",
            "   ------ --------------------------------- 2.6/16.4 MB 3.2 MB/s eta 0:00:05\n",
            "   ------ --------------------------------- 2.9/16.4 MB 3.4 MB/s eta 0:00:05\n",
            "   ------- -------------------------------- 3.2/16.4 MB 3.6 MB/s eta 0:00:04\n",
            "   -------- ------------------------------- 3.4/16.4 MB 3.7 MB/s eta 0:00:04\n",
            "   -------- ------------------------------- 3.7/16.4 MB 3.7 MB/s eta 0:00:04\n",
            "   --------- ------------------------------ 3.9/16.4 MB 3.9 MB/s eta 0:00:04\n",
            "   ---------- ----------------------------- 4.2/16.4 MB 3.9 MB/s eta 0:00:04\n",
            "   ---------- ----------------------------- 4.4/16.4 MB 3.9 MB/s eta 0:00:04\n",
            "   ----------- ---------------------------- 4.7/16.4 MB 4.1 MB/s eta 0:00:03\n",
            "   ------------ --------------------------- 5.0/16.4 MB 4.1 MB/s eta 0:00:03\n",
            "   ------------ --------------------------- 5.1/16.4 MB 4.2 MB/s eta 0:00:03\n",
            "   ------------- -------------------------- 5.4/16.4 MB 4.2 MB/s eta 0:00:03\n",
            "   ------------- -------------------------- 5.6/16.4 MB 4.2 MB/s eta 0:00:03\n",
            "   -------------- ------------------------- 5.9/16.4 MB 4.3 MB/s eta 0:00:03\n",
            "   -------------- ------------------------- 6.1/16.4 MB 4.3 MB/s eta 0:00:03\n",
            "   --------------- ------------------------ 6.5/16.4 MB 4.4 MB/s eta 0:00:03\n",
            "   ---------------- ----------------------- 6.7/16.4 MB 4.4 MB/s eta 0:00:03\n",
            "   ---------------- ----------------------- 6.9/16.4 MB 4.5 MB/s eta 0:00:03\n",
            "   ----------------- ---------------------- 7.2/16.4 MB 4.5 MB/s eta 0:00:03\n",
            "   ------------------ --------------------- 7.4/16.4 MB 4.5 MB/s eta 0:00:02\n",
            "   ------------------ --------------------- 7.7/16.4 MB 4.6 MB/s eta 0:00:02\n",
            "   ------------------- -------------------- 8.0/16.4 MB 4.6 MB/s eta 0:00:02\n",
            "   -------------------- ------------------- 8.3/16.4 MB 4.7 MB/s eta 0:00:02\n",
            "   -------------------- ------------------- 8.5/16.4 MB 4.7 MB/s eta 0:00:02\n",
            "   --------------------- ------------------ 8.7/16.4 MB 4.7 MB/s eta 0:00:02\n",
            "   --------------------- ------------------ 9.0/16.4 MB 4.7 MB/s eta 0:00:02\n",
            "   ---------------------- ----------------- 9.2/16.4 MB 4.8 MB/s eta 0:00:02\n",
            "   ----------------------- ---------------- 9.5/16.4 MB 4.8 MB/s eta 0:00:02\n",
            "   ----------------------- ---------------- 9.8/16.4 MB 4.8 MB/s eta 0:00:02\n",
            "   ------------------------ --------------- 10.0/16.4 MB 4.8 MB/s eta 0:00:02\n",
            "   ------------------------- -------------- 10.3/16.4 MB 5.1 MB/s eta 0:00:02\n",
            "   ------------------------- -------------- 10.6/16.4 MB 5.7 MB/s eta 0:00:02\n",
            "   -------------------------- ------------- 10.9/16.4 MB 6.0 MB/s eta 0:00:01\n",
            "   --------------------------- ------------ 11.1/16.4 MB 6.0 MB/s eta 0:00:01\n",
            "   --------------------------- ------------ 11.4/16.4 MB 5.9 MB/s eta 0:00:01\n",
            "   ---------------------------- ----------- 11.7/16.4 MB 6.0 MB/s eta 0:00:01\n",
            "   ---------------------------- ----------- 11.9/16.4 MB 6.0 MB/s eta 0:00:01\n",
            "   ----------------------------- ---------- 12.2/16.4 MB 6.0 MB/s eta 0:00:01\n",
            "   ------------------------------ --------- 12.5/16.4 MB 6.0 MB/s eta 0:00:01\n",
            "   ------------------------------- -------- 12.7/16.4 MB 6.0 MB/s eta 0:00:01\n",
            "   ------------------------------- -------- 13.1/16.4 MB 6.0 MB/s eta 0:00:01\n",
            "   -------------------------------- ------- 13.3/16.4 MB 6.0 MB/s eta 0:00:01\n",
            "   --------------------------------- ------ 13.6/16.4 MB 6.0 MB/s eta 0:00:01\n",
            "   --------------------------------- ------ 13.9/16.4 MB 6.1 MB/s eta 0:00:01\n",
            "   ---------------------------------- ----- 14.3/16.4 MB 6.1 MB/s eta 0:00:01\n",
            "   ----------------------------------- ---- 14.6/16.4 MB 6.1 MB/s eta 0:00:01\n",
            "   ------------------------------------ --- 14.8/16.4 MB 6.1 MB/s eta 0:00:01\n",
            "   ------------------------------------ --- 15.1/16.4 MB 6.2 MB/s eta 0:00:01\n",
            "   ------------------------------------- -- 15.4/16.4 MB 6.2 MB/s eta 0:00:01\n",
            "   -------------------------------------- - 15.6/16.4 MB 6.2 MB/s eta 0:00:01\n",
            "   -------------------------------------- - 16.0/16.4 MB 6.3 MB/s eta 0:00:01\n",
            "   ---------------------------------------  16.2/16.4 MB 6.4 MB/s eta 0:00:01\n",
            "   ---------------------------------------  16.4/16.4 MB 6.4 MB/s eta 0:00:01\n",
            "   ---------------------------------------  16.4/16.4 MB 6.4 MB/s eta 0:00:01\n",
            "   ---------------------------------------  16.4/16.4 MB 6.4 MB/s eta 0:00:01\n",
            "   ---------------------------------------- 16.4/16.4 MB 5.8 MB/s eta 0:00:00\n",
            "Using cached tenacity-8.2.3-py3-none-any.whl (24 kB)\n",
            "Installing collected packages: tenacity, plotly\n",
            "Successfully installed plotly-5.22.0 tenacity-8.2.3\n",
            "Note: you may need to restart the kernel to use updated packages.\n"
          ]
        }
      ],
      "source": [
        "pip install plotly"
      ]
    },
    {
      "cell_type": "code",
      "execution_count": 33,
      "metadata": {},
      "outputs": [
        {
          "name": "stdout",
          "output_type": "stream",
          "text": [
            "^C\n"
          ]
        }
      ],
      "source": [
        "!pip uninstall plotly\n",
        "# pip install plotly"
      ]
    },
    {
      "cell_type": "code",
      "execution_count": 28,
      "metadata": {},
      "outputs": [
        {
          "name": "stdout",
          "output_type": "stream",
          "text": [
            "Collecting nbformat\n",
            "  Downloading nbformat-5.10.4-py3-none-any.whl.metadata (3.6 kB)\n",
            "Collecting fastjsonschema>=2.15 (from nbformat)\n",
            "  Downloading fastjsonschema-2.19.1-py3-none-any.whl.metadata (2.1 kB)\n",
            "Collecting jsonschema>=2.6 (from nbformat)\n",
            "  Downloading jsonschema-4.22.0-py3-none-any.whl.metadata (8.2 kB)\n",
            "Requirement already satisfied: jupyter-core!=5.0.*,>=4.12 in c:\\users\\user\\appdata\\roaming\\python\\python312\\site-packages (from nbformat) (5.7.2)\n",
            "Requirement already satisfied: traitlets>=5.1 in c:\\users\\user\\appdata\\roaming\\python\\python312\\site-packages (from nbformat) (5.14.2)\n",
            "Collecting attrs>=22.2.0 (from jsonschema>=2.6->nbformat)\n",
            "  Downloading attrs-23.2.0-py3-none-any.whl.metadata (9.5 kB)\n",
            "Collecting jsonschema-specifications>=2023.03.6 (from jsonschema>=2.6->nbformat)\n",
            "  Downloading jsonschema_specifications-2023.12.1-py3-none-any.whl.metadata (3.0 kB)\n",
            "Collecting referencing>=0.28.4 (from jsonschema>=2.6->nbformat)\n",
            "  Downloading referencing-0.35.1-py3-none-any.whl.metadata (2.8 kB)\n",
            "Collecting rpds-py>=0.7.1 (from jsonschema>=2.6->nbformat)\n",
            "  Downloading rpds_py-0.18.0-cp312-none-win_amd64.whl.metadata (4.2 kB)\n",
            "Requirement already satisfied: platformdirs>=2.5 in c:\\users\\user\\appdata\\roaming\\python\\python312\\site-packages (from jupyter-core!=5.0.*,>=4.12->nbformat) (4.2.0)\n",
            "Requirement already satisfied: pywin32>=300 in c:\\users\\user\\appdata\\roaming\\python\\python312\\site-packages (from jupyter-core!=5.0.*,>=4.12->nbformat) (306)\n",
            "Downloading nbformat-5.10.4-py3-none-any.whl (78 kB)\n",
            "   ---------------------------------------- 0.0/78.5 kB ? eta -:--:--\n",
            "   ----- ---------------------------------- 10.2/78.5 kB ? eta -:--:--\n",
            "   -------------------- ------------------- 41.0/78.5 kB 653.6 kB/s eta 0:00:01\n",
            "   ---------------------------------------- 78.5/78.5 kB 725.7 kB/s eta 0:00:00\n",
            "Downloading fastjsonschema-2.19.1-py3-none-any.whl (23 kB)\n",
            "Downloading jsonschema-4.22.0-py3-none-any.whl (88 kB)\n",
            "   ---------------------------------------- 0.0/88.3 kB ? eta -:--:--\n",
            "   ---------------------------------------- 88.3/88.3 kB 5.2 MB/s eta 0:00:00\n",
            "Downloading attrs-23.2.0-py3-none-any.whl (60 kB)\n",
            "   ---------------------------------------- 0.0/60.8 kB ? eta -:--:--\n",
            "   ---------------------------------------- 60.8/60.8 kB 3.2 MB/s eta 0:00:00\n",
            "Downloading jsonschema_specifications-2023.12.1-py3-none-any.whl (18 kB)\n",
            "Downloading referencing-0.35.1-py3-none-any.whl (26 kB)\n",
            "Downloading rpds_py-0.18.0-cp312-none-win_amd64.whl (206 kB)\n",
            "   ---------------------------------------- 0.0/206.3 kB ? eta -:--:--\n",
            "   --------------------- ------------------ 112.6/206.3 kB 6.4 MB/s eta 0:00:01\n",
            "   ---------------------------------------  204.8/206.3 kB 2.1 MB/s eta 0:00:01\n",
            "   ---------------------------------------- 206.3/206.3 kB 1.8 MB/s eta 0:00:00\n",
            "Installing collected packages: fastjsonschema, rpds-py, attrs, referencing, jsonschema-specifications, jsonschema, nbformat\n",
            "Successfully installed attrs-23.2.0 fastjsonschema-2.19.1 jsonschema-4.22.0 jsonschema-specifications-2023.12.1 nbformat-5.10.4 referencing-0.35.1 rpds-py-0.18.0\n",
            "Note: you may need to restart the kernel to use updated packages.\n"
          ]
        }
      ],
      "source": [
        "pip install --upgrade nbformat"
      ]
    }
  ],
  "metadata": {
    "colab": {
      "provenance": []
    },
    "kernelspec": {
      "display_name": "Python 3",
      "name": "python3"
    },
    "language_info": {
      "codemirror_mode": {
        "name": "ipython",
        "version": 3
      },
      "file_extension": ".py",
      "mimetype": "text/x-python",
      "name": "python",
      "nbconvert_exporter": "python",
      "pygments_lexer": "ipython3",
      "version": "3.12.2"
    }
  },
  "nbformat": 4,
  "nbformat_minor": 0
}
